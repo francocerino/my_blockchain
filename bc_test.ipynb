{
 "cells": [
  {
   "cell_type": "code",
   "execution_count": 83,
   "id": "dcbc97c7",
   "metadata": {},
   "outputs": [
    {
     "name": "stdout",
     "output_type": "stream",
     "text": [
      "The autoreload extension is already loaded. To reload it, use:\n",
      "  %reload_ext autoreload\n"
     ]
    }
   ],
   "source": [
    "%load_ext autoreload\n",
    "%autoreload 2\n",
    "import functions as f\n",
    "from blockchain import Blockchain\n",
    "from anytree.exporter import DotExporter"
   ]
  },
  {
   "cell_type": "code",
   "execution_count": 84,
   "id": "8bbec351",
   "metadata": {},
   "outputs": [],
   "source": [
    "bc = Blockchain(max_transactions_per_block = 5, pow_difficulty = 3)"
   ]
  },
  {
   "cell_type": "code",
   "execution_count": 85,
   "id": "cfaa3299",
   "metadata": {},
   "outputs": [],
   "source": [
    "bc.add_account(\"Alice\")\n",
    "bc.add_account(\"Bob\")"
   ]
  },
  {
   "cell_type": "code",
   "execution_count": 86,
   "id": "9fbc89a8",
   "metadata": {},
   "outputs": [
    {
     "name": "stdout",
     "output_type": "stream",
     "text": [
      "{'miner': 100.0}\n"
     ]
    }
   ],
   "source": [
    "bc.wallets_taking_only_mined_blocks()"
   ]
  },
  {
   "cell_type": "code",
   "execution_count": 87,
   "id": "13cd32ec",
   "metadata": {},
   "outputs": [
    {
     "name": "stdout",
     "output_type": "stream",
     "text": [
      "\n",
      "block  0\n",
      "\n",
      "header:\n",
      "nonce  :  7607\n",
      "block_number  :  0\n",
      "merkle_tree_root_hash  :  c46ca60643d459f7b73c9bf6fde6ae366f8671bb10e4f3228e8edb77df3f7841\n",
      "timestamp  :  1655607571949\n",
      "\n",
      "body:\n",
      "transactions  :  (('miner', 100.0),)\n",
      "merkle_tree  :  Node('/c46ca60643d459f7b73c9bf6fde6ae366f8671bb10e4f3228e8edb77df3f7841')\n",
      "wallets_after_block_transactions  :  {'miner': 100.0}\n",
      "\n",
      " ----------------------------------------------------------------------------------------------------\n",
      "\n",
      "block  1\n",
      "\n",
      "header:\n",
      "nonce  :  0\n",
      "prev_hash  :  000b46ae441b7000ad95da55c3a57f9f18e4749b6336ae5819e2ab71dc8bfeab\n",
      "block_number  :  1\n",
      "\n",
      "body:\n",
      "transactions  :  (('miner', 50.0),)\n",
      "\n",
      " ----------------------------------------------------------------------------------------------------\n"
     ]
    }
   ],
   "source": [
    "bc.show()"
   ]
  },
  {
   "cell_type": "code",
   "execution_count": 88,
   "id": "99a267bd",
   "metadata": {},
   "outputs": [],
   "source": [
    "bc.add_transaction(bc.wallets,(\"miner\",\"Alice\",10,1))\n",
    "bc.add_transaction(bc.wallets,(\"miner\",\"Bob\",10,1))"
   ]
  },
  {
   "cell_type": "code",
   "execution_count": 89,
   "id": "19df6b6c",
   "metadata": {},
   "outputs": [],
   "source": [
    "bc.mine_last_block()"
   ]
  },
  {
   "cell_type": "code",
   "execution_count": 90,
   "id": "79c610ca",
   "metadata": {},
   "outputs": [
    {
     "name": "stdout",
     "output_type": "stream",
     "text": [
      "\n",
      "block  0\n",
      "\n",
      "header:\n",
      "nonce  :  7607\n",
      "block_number  :  0\n",
      "merkle_tree_root_hash  :  c46ca60643d459f7b73c9bf6fde6ae366f8671bb10e4f3228e8edb77df3f7841\n",
      "timestamp  :  1655607571949\n",
      "\n",
      "body:\n",
      "transactions  :  (('miner', 100.0),)\n",
      "merkle_tree  :  Node('/c46ca60643d459f7b73c9bf6fde6ae366f8671bb10e4f3228e8edb77df3f7841')\n",
      "wallets_after_block_transactions  :  {'miner': 100.0}\n",
      "\n",
      " ----------------------------------------------------------------------------------------------------\n",
      "\n",
      "block  1\n",
      "\n",
      "header:\n",
      "nonce  :  928\n",
      "prev_hash  :  000b46ae441b7000ad95da55c3a57f9f18e4749b6336ae5819e2ab71dc8bfeab\n",
      "block_number  :  1\n",
      "merkle_tree_root_hash  :  4bf012f4a859b4da71bbf55ddfc8f4b1fbc01a53b4b379e43bb467a377f9f0c3\n",
      "timestamp  :  1655607578443\n",
      "\n",
      "body:\n",
      "transactions  :  (('miner', 50.0), ('miner', 'Alice', 10), ('miner', 'miner', 1), ('miner', 'Bob', 10), ('miner', 'miner', 1))\n",
      "merkle_tree  :  Node('/4bf012f4a859b4da71bbf55ddfc8f4b1fbc01a53b4b379e43bb467a377f9f0c3')\n",
      "wallets_after_block_transactions  :  {'miner': 130.0, 'Alice': 10, 'Bob': 10}\n",
      "\n",
      " ----------------------------------------------------------------------------------------------------\n",
      "\n",
      "block  2\n",
      "\n",
      "header:\n",
      "nonce  :  0\n",
      "prev_hash  :  0008819c165961b83bd705298960bad51a2f4e8e9b284f0ffffbf9324c15a97a\n",
      "block_number  :  2\n",
      "\n",
      "body:\n",
      "transactions  :  (('miner', 33.333),)\n",
      "\n",
      " ----------------------------------------------------------------------------------------------------\n"
     ]
    }
   ],
   "source": [
    "bc.show()"
   ]
  },
  {
   "cell_type": "code",
   "execution_count": 91,
   "id": "4b3b0046",
   "metadata": {},
   "outputs": [
    {
     "data": {
      "text/plain": [
       "(Node(\"/4bf012f4a859b4da71bbf55ddfc8f4b1fbc01a53b4b379e43bb467a377f9f0c3/45ec05d1f448ba5241da2402bfcd9b15f47994a45e36ad00f66550297fe2fe6e/d6fce19356c28302e073cfd0214f5e19010224d476360e693f651dfdac976dbb/bb0ee4d3786b6a31864a3dfb1d50a8f2c2f70cadd12c013a80f75c85ee8e28e7/('miner', 50.0)\"),\n",
       " Node(\"/4bf012f4a859b4da71bbf55ddfc8f4b1fbc01a53b4b379e43bb467a377f9f0c3/570490d5aff85d1399e4ccedb2d4fa2a2649e5f521975e5d2614d04b1f18bcc7/c65c087034fb725599502e1c773e14cddc7c3cc73b7d82c38016ed18e2e15e1b/b4aabe4d189f69d4ce43528d2db383d0d95edca87fe71c05174a9abfdbcf9333/('miner', 'Alice', 10)\"),\n",
       " Node(\"/4bf012f4a859b4da71bbf55ddfc8f4b1fbc01a53b4b379e43bb467a377f9f0c3/570490d5aff85d1399e4ccedb2d4fa2a2649e5f521975e5d2614d04b1f18bcc7/c65c087034fb725599502e1c773e14cddc7c3cc73b7d82c38016ed18e2e15e1b/19be4cfe23fb44f0bb679d993561ff582d010775a264d53a59bdf0c42eec785d/('miner', 'miner', 1)\"),\n",
       " Node(\"/4bf012f4a859b4da71bbf55ddfc8f4b1fbc01a53b4b379e43bb467a377f9f0c3/570490d5aff85d1399e4ccedb2d4fa2a2649e5f521975e5d2614d04b1f18bcc7/386cf0679672f5c569191753bb9fddd4648396b26c625d362caf9830f7422876/9eb06e876613f878a7bf6d8e03e225fd0c04299ed7fc3da7543c72be913963f0/('miner', 'Bob', 10)\"),\n",
       " Node(\"/4bf012f4a859b4da71bbf55ddfc8f4b1fbc01a53b4b379e43bb467a377f9f0c3/570490d5aff85d1399e4ccedb2d4fa2a2649e5f521975e5d2614d04b1f18bcc7/386cf0679672f5c569191753bb9fddd4648396b26c625d362caf9830f7422876/19be4cfe23fb44f0bb679d993561ff582d010775a264d53a59bdf0c42eec785d/('miner', 'miner', 1)\"))"
      ]
     },
     "execution_count": 91,
     "metadata": {},
     "output_type": "execute_result"
    }
   ],
   "source": [
    "bc.chain[-2][\"body\"][\"merkle_tree\"].leaves"
   ]
  },
  {
   "cell_type": "code",
   "execution_count": 92,
   "id": "2e0abafd",
   "metadata": {},
   "outputs": [
    {
     "data": {
      "text/plain": [
       "'000b46ae441b7000ad95da55c3a57f9f18e4749b6336ae5819e2ab71dc8bfeab'"
      ]
     },
     "execution_count": 92,
     "metadata": {},
     "output_type": "execute_result"
    }
   ],
   "source": [
    "f.string_to_hash(str((bc.chain[0][\"header\"])))"
   ]
  },
  {
   "cell_type": "code",
   "execution_count": 93,
   "id": "7e7a2046",
   "metadata": {},
   "outputs": [
    {
     "data": {
      "text/plain": [
       "True"
      ]
     },
     "execution_count": 93,
     "metadata": {},
     "output_type": "execute_result"
    }
   ],
   "source": [
    "idx = 1\n",
    "f.string_to_hash(str((bc.chain[idx][\"header\"]))) == bc.chain[idx+1][\"header\"][\"prev_hash\"]"
   ]
  },
  {
   "cell_type": "code",
   "execution_count": 94,
   "id": "86d2c7eb",
   "metadata": {},
   "outputs": [
    {
     "name": "stdout",
     "output_type": "stream",
     "text": [
      "{'miner': 130.0, 'Alice': 10, 'Bob': 10}\n"
     ]
    }
   ],
   "source": [
    "bc.wallets_taking_only_mined_blocks()"
   ]
  },
  {
   "cell_type": "code",
   "execution_count": 95,
   "id": "8b30d919",
   "metadata": {},
   "outputs": [],
   "source": [
    "bc.add_transaction(bc.wallets,(\"Bob\",\"Bob\",5,1))"
   ]
  },
  {
   "cell_type": "code",
   "execution_count": 96,
   "id": "9b34c586",
   "metadata": {},
   "outputs": [],
   "source": [
    "bc.mine_last_block()"
   ]
  },
  {
   "cell_type": "code",
   "execution_count": 98,
   "id": "828e669b",
   "metadata": {
    "scrolled": true
   },
   "outputs": [
    {
     "name": "stdout",
     "output_type": "stream",
     "text": [
      "\n",
      "block  0\n",
      "\n",
      "header:\n",
      "nonce  :  7607\n",
      "block_number  :  0\n",
      "merkle_tree_root_hash  :  c46ca60643d459f7b73c9bf6fde6ae366f8671bb10e4f3228e8edb77df3f7841\n",
      "timestamp  :  1655607571949\n",
      "\n",
      "body:\n",
      "transactions  :  (('miner', 100.0),)\n",
      "merkle_tree  :  Node('/c46ca60643d459f7b73c9bf6fde6ae366f8671bb10e4f3228e8edb77df3f7841')\n",
      "wallets_after_block_transactions  :  {'miner': 100.0}\n",
      "\n",
      " ----------------------------------------------------------------------------------------------------\n",
      "\n",
      "block  1\n",
      "\n",
      "header:\n",
      "nonce  :  928\n",
      "prev_hash  :  000b46ae441b7000ad95da55c3a57f9f18e4749b6336ae5819e2ab71dc8bfeab\n",
      "block_number  :  1\n",
      "merkle_tree_root_hash  :  4bf012f4a859b4da71bbf55ddfc8f4b1fbc01a53b4b379e43bb467a377f9f0c3\n",
      "timestamp  :  1655607578443\n",
      "\n",
      "body:\n",
      "transactions  :  (('miner', 50.0), ('miner', 'Alice', 10), ('miner', 'miner', 1), ('miner', 'Bob', 10), ('miner', 'miner', 1))\n",
      "merkle_tree  :  Node('/4bf012f4a859b4da71bbf55ddfc8f4b1fbc01a53b4b379e43bb467a377f9f0c3')\n",
      "wallets_after_block_transactions  :  {'miner': 130.0, 'Alice': 10, 'Bob': 10}\n",
      "\n",
      " ----------------------------------------------------------------------------------------------------\n",
      "\n",
      "block  2\n",
      "\n",
      "header:\n",
      "nonce  :  9920\n",
      "prev_hash  :  0008819c165961b83bd705298960bad51a2f4e8e9b284f0ffffbf9324c15a97a\n",
      "block_number  :  2\n",
      "merkle_tree_root_hash  :  32c07cbdfc7eeb47dd7c94e8d90afade98d39c24dedfa4f11f2137fd6d4cf287\n",
      "timestamp  :  1655607624734\n",
      "\n",
      "body:\n",
      "transactions  :  (('miner', 33.333), ('Bob', 'Bob', 5), ('Bob', 'miner', 1))\n",
      "merkle_tree  :  Node('/32c07cbdfc7eeb47dd7c94e8d90afade98d39c24dedfa4f11f2137fd6d4cf287')\n",
      "wallets_after_block_transactions  :  {'miner': 164.333, 'Alice': 10, 'Bob': 9}\n",
      "\n",
      " ----------------------------------------------------------------------------------------------------\n",
      "\n",
      "block  3\n",
      "\n",
      "header:\n",
      "nonce  :  0\n",
      "prev_hash  :  0004e75b6dcb3b54dc97eb857e298d47b5a7abc96343785b650b5f67e4180868\n",
      "block_number  :  3\n",
      "\n",
      "body:\n",
      "transactions  :  (('miner', 25.0),)\n",
      "\n",
      " ----------------------------------------------------------------------------------------------------\n"
     ]
    }
   ],
   "source": [
    "bc.show()"
   ]
  },
  {
   "cell_type": "code",
   "execution_count": 99,
   "id": "3438e6ce",
   "metadata": {},
   "outputs": [
    {
     "name": "stdout",
     "output_type": "stream",
     "text": [
      "{'miner': 164.333, 'Alice': 10, 'Bob': 9}\n"
     ]
    }
   ],
   "source": [
    "bc.wallets_taking_only_mined_blocks()"
   ]
  },
  {
   "cell_type": "code",
   "execution_count": 100,
   "id": "bf2336ab",
   "metadata": {},
   "outputs": [],
   "source": [
    "merkle_tree = bc.chain[-3][\"body\"][\"merkle_tree\"]\n",
    "\n",
    "DotExporter(merkle_tree).to_picture(\"merkle_tree.png\")"
   ]
  },
  {
   "cell_type": "code",
   "execution_count": 101,
   "id": "4abaea39",
   "metadata": {},
   "outputs": [
    {
     "name": "stdout",
     "output_type": "stream",
     "text": [
      "True\n",
      "False\n"
     ]
    }
   ],
   "source": [
    "print(f.block_newer_than(bc.chain[-2],bc.chain[-3]))\n",
    "print(f.block_newer_than(bc.chain[-4],bc.chain[-2]))"
   ]
  },
  {
   "cell_type": "code",
   "execution_count": 102,
   "id": "62be49ec",
   "metadata": {},
   "outputs": [
    {
     "ename": "IndexError",
     "evalue": "tuple index out of range",
     "output_type": "error",
     "traceback": [
      "\u001b[0;31m---------------------------------------------------------------------------\u001b[0m",
      "\u001b[0;31mIndexError\u001b[0m                                Traceback (most recent call last)",
      "\u001b[0;32m/tmp/ipykernel_43296/1037488316.py\u001b[0m in \u001b[0;36m<module>\u001b[0;34m\u001b[0m\n\u001b[1;32m      1\u001b[0m \u001b[0;31m#error para wallet inexistente\u001b[0m\u001b[0;34m\u001b[0m\u001b[0;34m\u001b[0m\u001b[0m\n\u001b[0;32m----> 2\u001b[0;31m \u001b[0mbc\u001b[0m\u001b[0;34m.\u001b[0m\u001b[0madd_transaction\u001b[0m\u001b[0;34m(\u001b[0m\u001b[0mbc\u001b[0m\u001b[0;34m.\u001b[0m\u001b[0mwallets\u001b[0m\u001b[0;34m,\u001b[0m\u001b[0;34m(\u001b[0m\u001b[0;34m\"Alice1\"\u001b[0m\u001b[0;34m,\u001b[0m\u001b[0;34m\"Bob\"\u001b[0m\u001b[0;34m,\u001b[0m\u001b[0;36m5\u001b[0m\u001b[0;34m)\u001b[0m\u001b[0;34m)\u001b[0m\u001b[0;34m\u001b[0m\u001b[0;34m\u001b[0m\u001b[0m\n\u001b[0m",
      "\u001b[0;32m~/Documents/my_blockchain/my_blockchain/blockchain.py\u001b[0m in \u001b[0;36madd_transaction\u001b[0;34m(self, wallets, transaction)\u001b[0m\n\u001b[1;32m     21\u001b[0m         \u001b[0mpayee\u001b[0m \u001b[0;34m=\u001b[0m \u001b[0mtransaction\u001b[0m\u001b[0;34m[\u001b[0m\u001b[0;36m1\u001b[0m\u001b[0;34m]\u001b[0m\u001b[0;34m\u001b[0m\u001b[0;34m\u001b[0m\u001b[0m\n\u001b[1;32m     22\u001b[0m         \u001b[0mamount\u001b[0m \u001b[0;34m=\u001b[0m \u001b[0mtransaction\u001b[0m\u001b[0;34m[\u001b[0m\u001b[0;36m2\u001b[0m\u001b[0;34m]\u001b[0m\u001b[0;34m\u001b[0m\u001b[0;34m\u001b[0m\u001b[0m\n\u001b[0;32m---> 23\u001b[0;31m         \u001b[0mfee\u001b[0m \u001b[0;34m=\u001b[0m \u001b[0mtransaction\u001b[0m\u001b[0;34m[\u001b[0m\u001b[0;36m3\u001b[0m\u001b[0;34m]\u001b[0m\u001b[0;34m\u001b[0m\u001b[0;34m\u001b[0m\u001b[0m\n\u001b[0m\u001b[1;32m     24\u001b[0m \u001b[0;34m\u001b[0m\u001b[0m\n\u001b[1;32m     25\u001b[0m         \u001b[0mnumber_actual_transactions\u001b[0m \u001b[0;34m=\u001b[0m \u001b[0mlen\u001b[0m\u001b[0;34m(\u001b[0m\u001b[0mself\u001b[0m\u001b[0;34m.\u001b[0m\u001b[0mchain\u001b[0m\u001b[0;34m[\u001b[0m\u001b[0;34m-\u001b[0m\u001b[0;36m1\u001b[0m\u001b[0;34m]\u001b[0m\u001b[0;34m[\u001b[0m\u001b[0;34m\"body\"\u001b[0m\u001b[0;34m]\u001b[0m\u001b[0;34m[\u001b[0m\u001b[0;34m\"transactions\"\u001b[0m\u001b[0;34m]\u001b[0m\u001b[0;34m)\u001b[0m\u001b[0;34m\u001b[0m\u001b[0;34m\u001b[0m\u001b[0m\n",
      "\u001b[0;31mIndexError\u001b[0m: tuple index out of range"
     ]
    }
   ],
   "source": [
    "#error para wallet inexistente\n",
    "bc.add_transaction(bc.wallets,(\"Alice1\",\"Bob\",5))"
   ]
  },
  {
   "cell_type": "code",
   "execution_count": null,
   "id": "15408c41",
   "metadata": {},
   "outputs": [],
   "source": []
  }
 ],
 "metadata": {
  "kernelspec": {
   "display_name": "Python 3 (ipykernel)",
   "language": "python",
   "name": "python3"
  },
  "language_info": {
   "codemirror_mode": {
    "name": "ipython",
    "version": 3
   },
   "file_extension": ".py",
   "mimetype": "text/x-python",
   "name": "python",
   "nbconvert_exporter": "python",
   "pygments_lexer": "ipython3",
   "version": "3.9.7"
  }
 },
 "nbformat": 4,
 "nbformat_minor": 5
}
