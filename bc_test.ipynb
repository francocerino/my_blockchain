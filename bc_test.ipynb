{
 "cells": [
  {
   "cell_type": "code",
   "execution_count": 1,
   "id": "dcbc97c7",
   "metadata": {},
   "outputs": [],
   "source": [
    "%load_ext autoreload\n",
    "%autoreload 2\n",
    "import functions as f\n",
    "from blockchain import Blockchain"
   ]
  },
  {
   "cell_type": "markdown",
   "id": "cd24294e",
   "metadata": {},
   "source": [
    "Al crear una instancia, se debe determinar la cantidad máxima de transacciones por bloque, donde se tiene en cuenta a cada envio de fees y al pago al minero como transacciones.\n",
    "\n",
    "También se asigna un número natural \"pow_difficulty\", que indica la cantidad de ceros iniciales que debe tener el hash del bloque para completar la prueba de trabajo (PoW)."
   ]
  },
  {
   "cell_type": "code",
   "execution_count": 2,
   "id": "8bbec351",
   "metadata": {},
   "outputs": [],
   "source": [
    "bc = Blockchain(max_transactions_per_block = 5, pow_difficulty = 3)"
   ]
  },
  {
   "cell_type": "markdown",
   "id": "91613437",
   "metadata": {},
   "source": [
    "Al inicializar la instancia, se mina el bloque cero y se crea una única cuenta llamada \"miner\" al que se le asigna cash luego de cada PoW."
   ]
  },
  {
   "cell_type": "code",
   "execution_count": 3,
   "id": "484f2094",
   "metadata": {},
   "outputs": [
    {
     "name": "stdout",
     "output_type": "stream",
     "text": [
      "{'miner': 100.0}\n"
     ]
    }
   ],
   "source": [
    "bc.wallets_taking_only_mined_blocks()"
   ]
  },
  {
   "cell_type": "markdown",
   "id": "4bcb847c",
   "metadata": {},
   "source": [
    "Luego de realizar PoW, se crea automáticamente un nuevo bloque, listo para recibir transacciones.\n",
    "\n",
    "Con \"bc.show()\" se muestra todos los bloques, incluso el no minado (el último).\n",
    "\n",
    "En el segundo bloque se le asigna menos cash al minero. A medida que el bloque es más largo, se le entrega menos premio al minero, eventualmente llegando a 0."
   ]
  },
  {
   "cell_type": "code",
   "execution_count": 4,
   "id": "5adcda99",
   "metadata": {},
   "outputs": [
    {
     "name": "stdout",
     "output_type": "stream",
     "text": [
      "\n",
      "block  0\n",
      "\n",
      "header:\n",
      "nonce  :  4556\n",
      "block_number  :  0\n",
      "merkle_tree_root_hash  :  c46ca60643d459f7b73c9bf6fde6ae366f8671bb10e4f3228e8edb77df3f7841\n",
      "timestamp  :  1655843836602\n",
      "\n",
      "body:\n",
      "transactions  :  (('miner', 100.0),)\n",
      "merkle_tree  :  Node('/c46ca60643d459f7b73c9bf6fde6ae366f8671bb10e4f3228e8edb77df3f7841')\n",
      "wallets_after_block_transactions  :  {'miner': 100.0}\n",
      "\n",
      " ----------------------------------------------------------------------------------------------------\n",
      "\n",
      "block  1\n",
      "\n",
      "header:\n",
      "nonce  :  0\n",
      "prev_hash  :  00026d2ab0a249a731c8ac37599e3746cb97f38edfbb0e22bbab8ee72b09bc2a\n",
      "block_number  :  1\n",
      "\n",
      "body:\n",
      "transactions  :  (('miner', 50.0),)\n",
      "\n",
      " ----------------------------------------------------------------------------------------------------\n"
     ]
    }
   ],
   "source": [
    "bc.show()"
   ]
  },
  {
   "cell_type": "markdown",
   "id": "6d46bd23",
   "metadata": {},
   "source": [
    "Mostramos las wallets existentes con el cash que les corresponde, tomando en cuenta solamente los bloques minados:"
   ]
  },
  {
   "cell_type": "markdown",
   "id": "83e78d1b",
   "metadata": {},
   "source": [
    "Agregamos dos cuentas. Al inicializarlas, ambas tienen cash = 0.\n",
    "\n",
    "Solo se puede crear cash a través del minado."
   ]
  },
  {
   "cell_type": "code",
   "execution_count": 5,
   "id": "0a264444",
   "metadata": {},
   "outputs": [],
   "source": [
    "bc.add_account(\"Alice\")\n",
    "bc.add_account(\"Bob\")"
   ]
  },
  {
   "cell_type": "markdown",
   "id": "dd5132e7",
   "metadata": {},
   "source": [
    "Agregamos dos transacciones al bloque no minado.\n",
    "\n",
    "Las transacciones se realizan con una tupla de la forma (payer,payee,amount_to_transfer,fee).\n",
    "\n",
    "El fee se determina al momento de realizar la transacción."
   ]
  },
  {
   "cell_type": "markdown",
   "id": "2b99a5c1",
   "metadata": {},
   "source": [
    "En este caso el único que tiene cash es el minero, entonces es él el que envía. También se paga fees a si mismo en este caso."
   ]
  },
  {
   "cell_type": "code",
   "execution_count": 6,
   "id": "99a267bd",
   "metadata": {},
   "outputs": [
    {
     "name": "stdout",
     "output_type": "stream",
     "text": [
      "Current block transactions =  3 . Max allowed =  5\n"
     ]
    }
   ],
   "source": [
    "bc.add_transaction((\"miner\",\"Alice\",10,1))"
   ]
  },
  {
   "cell_type": "markdown",
   "id": "ae9f832b",
   "metadata": {},
   "source": [
    "Intentamos que la cuenta \"miner\" de más cash del que tiene a \"Alice\":"
   ]
  },
  {
   "cell_type": "code",
   "execution_count": 7,
   "id": "a0ac0032",
   "metadata": {},
   "outputs": [
    {
     "ename": "AssertionError",
     "evalue": "",
     "output_type": "error",
     "traceback": [
      "\u001b[0;31m---------------------------------------------------------------------------\u001b[0m",
      "\u001b[0;31mAssertionError\u001b[0m                            Traceback (most recent call last)",
      "\u001b[0;32m/tmp/ipykernel_148961/833163033.py\u001b[0m in \u001b[0;36m<module>\u001b[0;34m\u001b[0m\n\u001b[0;32m----> 1\u001b[0;31m \u001b[0mbc\u001b[0m\u001b[0;34m.\u001b[0m\u001b[0madd_transaction\u001b[0m\u001b[0;34m(\u001b[0m\u001b[0;34m(\u001b[0m\u001b[0;34m\"miner\"\u001b[0m\u001b[0;34m,\u001b[0m\u001b[0;34m\"Alice\"\u001b[0m\u001b[0;34m,\u001b[0m\u001b[0;36m1000\u001b[0m\u001b[0;34m,\u001b[0m\u001b[0;36m1\u001b[0m\u001b[0;34m)\u001b[0m\u001b[0;34m)\u001b[0m\u001b[0;34m\u001b[0m\u001b[0;34m\u001b[0m\u001b[0m\n\u001b[0m",
      "\u001b[0;32m~/Documents/my_blockchain/my_blockchain/blockchain.py\u001b[0m in \u001b[0;36madd_transaction\u001b[0;34m(self, transaction)\u001b[0m\n\u001b[1;32m     26\u001b[0m \u001b[0;34m\u001b[0m\u001b[0m\n\u001b[1;32m     27\u001b[0m         \u001b[0;32mif\u001b[0m \u001b[0mnumber_actual_transactions\u001b[0m \u001b[0;34m+\u001b[0m \u001b[0;36m2\u001b[0m \u001b[0;34m<=\u001b[0m \u001b[0mself\u001b[0m\u001b[0;34m.\u001b[0m\u001b[0mmax_transactions_per_block\u001b[0m\u001b[0;34m:\u001b[0m\u001b[0;34m\u001b[0m\u001b[0;34m\u001b[0m\u001b[0m\n\u001b[0;32m---> 28\u001b[0;31m             \u001b[0;32massert\u001b[0m \u001b[0mself\u001b[0m\u001b[0;34m.\u001b[0m\u001b[0mwallets\u001b[0m\u001b[0;34m[\u001b[0m\u001b[0mpayer\u001b[0m\u001b[0;34m]\u001b[0m \u001b[0;34m-\u001b[0m \u001b[0mamount\u001b[0m \u001b[0;34m-\u001b[0m \u001b[0mfee\u001b[0m \u001b[0;34m>=\u001b[0m \u001b[0;36m0\u001b[0m\u001b[0;34m\u001b[0m\u001b[0;34m\u001b[0m\u001b[0m\n\u001b[0m\u001b[1;32m     29\u001b[0m             \u001b[0;31m# add transaction of cash to be sent to the payee\u001b[0m\u001b[0;34m\u001b[0m\u001b[0;34m\u001b[0m\u001b[0m\n\u001b[1;32m     30\u001b[0m             \u001b[0mself\u001b[0m\u001b[0;34m.\u001b[0m\u001b[0mwallets\u001b[0m\u001b[0;34m[\u001b[0m\u001b[0mpayer\u001b[0m\u001b[0;34m]\u001b[0m \u001b[0;34m-=\u001b[0m \u001b[0mamount\u001b[0m\u001b[0;34m\u001b[0m\u001b[0;34m\u001b[0m\u001b[0m\n",
      "\u001b[0;31mAssertionError\u001b[0m: "
     ]
    }
   ],
   "source": [
    "bc.add_transaction((\"miner\",\"Alice\",1000,1))"
   ]
  },
  {
   "cell_type": "markdown",
   "id": "89dfe540",
   "metadata": {},
   "source": [
    "En la transacción anterior, el minero le dio cash a Alice, entonces se puede agregar una transacción en el mismo bloque con un envío de Alice hacia otro usuario:"
   ]
  },
  {
   "cell_type": "code",
   "execution_count": 8,
   "id": "b1254f71",
   "metadata": {},
   "outputs": [
    {
     "name": "stdout",
     "output_type": "stream",
     "text": [
      "Current block transactions =  5 . Max allowed =  5\n"
     ]
    }
   ],
   "source": [
    "bc.add_transaction((\"Alice\",\"Bob\",5,1))"
   ]
  },
  {
   "cell_type": "markdown",
   "id": "b4bd44e3",
   "metadata": {},
   "source": [
    "Si se intenta agregar más transacciones de lo permitido, se devuelve un error:"
   ]
  },
  {
   "cell_type": "code",
   "execution_count": 9,
   "id": "8e744a05",
   "metadata": {},
   "outputs": [
    {
     "ename": "ValueError",
     "evalue": "The block is full. Mine it to add a transaction in a new block. ",
     "output_type": "error",
     "traceback": [
      "\u001b[0;31m---------------------------------------------------------------------------\u001b[0m",
      "\u001b[0;31mValueError\u001b[0m                                Traceback (most recent call last)",
      "\u001b[0;32m/tmp/ipykernel_148961/653608188.py\u001b[0m in \u001b[0;36m<module>\u001b[0;34m\u001b[0m\n\u001b[0;32m----> 1\u001b[0;31m \u001b[0mbc\u001b[0m\u001b[0;34m.\u001b[0m\u001b[0madd_transaction\u001b[0m\u001b[0;34m(\u001b[0m\u001b[0;34m(\u001b[0m\u001b[0;34m\"miner\"\u001b[0m\u001b[0;34m,\u001b[0m\u001b[0;34m\"Bob\"\u001b[0m\u001b[0;34m,\u001b[0m\u001b[0;36m20\u001b[0m\u001b[0;34m,\u001b[0m\u001b[0;36m1\u001b[0m\u001b[0;34m)\u001b[0m\u001b[0;34m)\u001b[0m\u001b[0;34m\u001b[0m\u001b[0;34m\u001b[0m\u001b[0m\n\u001b[0m",
      "\u001b[0;32m~/Documents/my_blockchain/my_blockchain/blockchain.py\u001b[0m in \u001b[0;36madd_transaction\u001b[0;34m(self, transaction)\u001b[0m\n\u001b[1;32m     41\u001b[0m \u001b[0;34m\u001b[0m\u001b[0m\n\u001b[1;32m     42\u001b[0m         \u001b[0;32melse\u001b[0m\u001b[0;34m:\u001b[0m\u001b[0;34m\u001b[0m\u001b[0;34m\u001b[0m\u001b[0m\n\u001b[0;32m---> 43\u001b[0;31m             \u001b[0;32mraise\u001b[0m \u001b[0mValueError\u001b[0m\u001b[0;34m(\u001b[0m\u001b[0;34m\"The block is full. Mine it to add a transaction in a new block. \"\u001b[0m\u001b[0;34m)\u001b[0m\u001b[0;34m\u001b[0m\u001b[0;34m\u001b[0m\u001b[0m\n\u001b[0m\u001b[1;32m     44\u001b[0m \u001b[0;34m\u001b[0m\u001b[0m\n\u001b[1;32m     45\u001b[0m     \u001b[0;32mdef\u001b[0m \u001b[0mmine_last_block\u001b[0m\u001b[0;34m(\u001b[0m\u001b[0mself\u001b[0m\u001b[0;34m)\u001b[0m\u001b[0;34m:\u001b[0m\u001b[0;34m\u001b[0m\u001b[0;34m\u001b[0m\u001b[0m\n",
      "\u001b[0;31mValueError\u001b[0m: The block is full. Mine it to add a transaction in a new block. "
     ]
    }
   ],
   "source": [
    "bc.add_transaction((\"miner\",\"Bob\",20,1))"
   ]
  },
  {
   "cell_type": "code",
   "execution_count": 10,
   "id": "4d53faa9",
   "metadata": {},
   "outputs": [
    {
     "name": "stdout",
     "output_type": "stream",
     "text": [
      "\n",
      "block  0\n",
      "\n",
      "header:\n",
      "nonce  :  4556\n",
      "block_number  :  0\n",
      "merkle_tree_root_hash  :  c46ca60643d459f7b73c9bf6fde6ae366f8671bb10e4f3228e8edb77df3f7841\n",
      "timestamp  :  1655843836602\n",
      "\n",
      "body:\n",
      "transactions  :  (('miner', 100.0),)\n",
      "merkle_tree  :  Node('/c46ca60643d459f7b73c9bf6fde6ae366f8671bb10e4f3228e8edb77df3f7841')\n",
      "wallets_after_block_transactions  :  {'miner': 100.0}\n",
      "\n",
      " ----------------------------------------------------------------------------------------------------\n",
      "\n",
      "block  1\n",
      "\n",
      "header:\n",
      "nonce  :  0\n",
      "prev_hash  :  00026d2ab0a249a731c8ac37599e3746cb97f38edfbb0e22bbab8ee72b09bc2a\n",
      "block_number  :  1\n",
      "\n",
      "body:\n",
      "transactions  :  (('miner', 50.0), ('miner', 'Alice', 10), ('miner', 'miner', 1), ('Alice', 'Bob', 5), ('Alice', 'miner', 1))\n",
      "\n",
      " ----------------------------------------------------------------------------------------------------\n"
     ]
    }
   ],
   "source": [
    "bc.show()"
   ]
  },
  {
   "cell_type": "markdown",
   "id": "afcee95c",
   "metadata": {},
   "source": [
    "Minamos el último bloque. Si se desea también se puede minarlo cuando no tiene el número máximo de transacciones."
   ]
  },
  {
   "cell_type": "code",
   "execution_count": 11,
   "id": "19df6b6c",
   "metadata": {},
   "outputs": [],
   "source": [
    "bc.mine_last_block()"
   ]
  },
  {
   "cell_type": "code",
   "execution_count": 12,
   "id": "a8790006",
   "metadata": {},
   "outputs": [
    {
     "name": "stdout",
     "output_type": "stream",
     "text": [
      "\n",
      "block  0\n",
      "\n",
      "header:\n",
      "nonce  :  4556\n",
      "block_number  :  0\n",
      "merkle_tree_root_hash  :  c46ca60643d459f7b73c9bf6fde6ae366f8671bb10e4f3228e8edb77df3f7841\n",
      "timestamp  :  1655843836602\n",
      "\n",
      "body:\n",
      "transactions  :  (('miner', 100.0),)\n",
      "merkle_tree  :  Node('/c46ca60643d459f7b73c9bf6fde6ae366f8671bb10e4f3228e8edb77df3f7841')\n",
      "wallets_after_block_transactions  :  {'miner': 100.0}\n",
      "\n",
      " ----------------------------------------------------------------------------------------------------\n",
      "\n",
      "block  1\n",
      "\n",
      "header:\n",
      "nonce  :  3600\n",
      "prev_hash  :  00026d2ab0a249a731c8ac37599e3746cb97f38edfbb0e22bbab8ee72b09bc2a\n",
      "block_number  :  1\n",
      "merkle_tree_root_hash  :  0050379c95251cf5ea04f188a51f2950b1bddbd7b1a65dd5b942fe1262430eb1\n",
      "timestamp  :  1655843966162\n",
      "\n",
      "body:\n",
      "transactions  :  (('miner', 50.0), ('miner', 'Alice', 10), ('miner', 'miner', 1), ('Alice', 'Bob', 5), ('Alice', 'miner', 1))\n",
      "merkle_tree  :  Node('/0050379c95251cf5ea04f188a51f2950b1bddbd7b1a65dd5b942fe1262430eb1')\n",
      "wallets_after_block_transactions  :  {'miner': 141.0, 'Alice': 4, 'Bob': 5}\n",
      "\n",
      " ----------------------------------------------------------------------------------------------------\n",
      "\n",
      "block  2\n",
      "\n",
      "header:\n",
      "nonce  :  0\n",
      "prev_hash  :  000d23cf1f28362fee22a404f899d63ba43fd00e5c12f87750bf7cf48919fd17\n",
      "block_number  :  2\n",
      "\n",
      "body:\n",
      "transactions  :  (('miner', 33.333),)\n",
      "\n",
      " ----------------------------------------------------------------------------------------------------\n"
     ]
    }
   ],
   "source": [
    "bc.show()"
   ]
  },
  {
   "cell_type": "markdown",
   "id": "ea49d001",
   "metadata": {},
   "source": [
    "Visualizamos como quedó el Merkle Tree del último bloque minado"
   ]
  },
  {
   "cell_type": "code",
   "execution_count": 13,
   "id": "e78c1863",
   "metadata": {},
   "outputs": [
    {
     "name": "stdout",
     "output_type": "stream",
     "text": [
      "0050379c95251cf5ea04f188a51f2950b1bddbd7b1a65dd5b942fe1262430eb1\n",
      "├── 45ec05d1f448ba5241da2402bfcd9b15f47994a45e36ad00f66550297fe2fe6e\n",
      "│   └── d6fce19356c28302e073cfd0214f5e19010224d476360e693f651dfdac976dbb\n",
      "│       └── bb0ee4d3786b6a31864a3dfb1d50a8f2c2f70cadd12c013a80f75c85ee8e28e7\n",
      "│           └── ('miner', 50.0)\n",
      "└── b5d5062ea527c44157df087935fa66e727015dacde2e4d451cf3252be4268111\n",
      "    ├── c65c087034fb725599502e1c773e14cddc7c3cc73b7d82c38016ed18e2e15e1b\n",
      "    │   ├── b4aabe4d189f69d4ce43528d2db383d0d95edca87fe71c05174a9abfdbcf9333\n",
      "    │   │   └── ('miner', 'Alice', 10)\n",
      "    │   └── 19be4cfe23fb44f0bb679d993561ff582d010775a264d53a59bdf0c42eec785d\n",
      "    │       └── ('miner', 'miner', 1)\n",
      "    └── 5fedca3619300f47dbd7e11622121d248936f4def2534ae6172036bc972283c7\n",
      "        ├── e49c742a51b58215a3597492e160cce2df79f29443ab317628f28b2afe49c943\n",
      "        │   └── ('Alice', 'Bob', 5)\n",
      "        └── cd4dddb88b4513a320c3022c8fd7e4a6897e2b66c32df917762fe936fa2b98de\n",
      "            └── ('Alice', 'miner', 1)\n"
     ]
    }
   ],
   "source": [
    "bc.visualize_merkle_tree(number_block = -2)"
   ]
  },
  {
   "cell_type": "markdown",
   "id": "43f5b620",
   "metadata": {},
   "source": [
    "Vemos si el hash del head del último bloque minado es el hash guardado en el bloque siguiente:"
   ]
  },
  {
   "cell_type": "code",
   "execution_count": 15,
   "id": "7e7a2046",
   "metadata": {},
   "outputs": [
    {
     "data": {
      "text/plain": [
       "True"
      ]
     },
     "execution_count": 15,
     "metadata": {},
     "output_type": "execute_result"
    }
   ],
   "source": [
    "idx = -2\n",
    "f.string_to_hash(str((bc.chain[idx][\"header\"]))) == bc.chain[idx+1][\"header\"][\"prev_hash\"]"
   ]
  },
  {
   "cell_type": "markdown",
   "id": "6f456477",
   "metadata": {},
   "source": [
    "Veamos el estado de las cuentas y minemos un bloque realizando una único envío de dinero."
   ]
  },
  {
   "cell_type": "code",
   "execution_count": 17,
   "id": "489c4108",
   "metadata": {},
   "outputs": [
    {
     "name": "stdout",
     "output_type": "stream",
     "text": [
      "{'miner': 141.0, 'Alice': 4, 'Bob': 5}\n"
     ]
    }
   ],
   "source": [
    "bc.wallets_taking_only_mined_blocks()"
   ]
  },
  {
   "cell_type": "markdown",
   "id": "ab6a1307",
   "metadata": {},
   "source": [
    "Realizamos un envio de dinero de Bob a si mismo:"
   ]
  },
  {
   "cell_type": "code",
   "execution_count": 20,
   "id": "8b30d919",
   "metadata": {},
   "outputs": [
    {
     "name": "stdout",
     "output_type": "stream",
     "text": [
      "Current block transactions =  3 . Max allowed =  5\n"
     ]
    }
   ],
   "source": [
    "bc.add_transaction((\"Bob\",\"Bob\",2,1))"
   ]
  },
  {
   "cell_type": "code",
   "execution_count": 21,
   "id": "9b34c586",
   "metadata": {},
   "outputs": [],
   "source": [
    "bc.mine_last_block()"
   ]
  },
  {
   "cell_type": "code",
   "execution_count": 22,
   "id": "828e669b",
   "metadata": {
    "scrolled": true
   },
   "outputs": [
    {
     "name": "stdout",
     "output_type": "stream",
     "text": [
      "\n",
      "block  0\n",
      "\n",
      "header:\n",
      "nonce  :  4556\n",
      "block_number  :  0\n",
      "merkle_tree_root_hash  :  c46ca60643d459f7b73c9bf6fde6ae366f8671bb10e4f3228e8edb77df3f7841\n",
      "timestamp  :  1655843836602\n",
      "\n",
      "body:\n",
      "transactions  :  (('miner', 100.0),)\n",
      "merkle_tree  :  Node('/c46ca60643d459f7b73c9bf6fde6ae366f8671bb10e4f3228e8edb77df3f7841')\n",
      "wallets_after_block_transactions  :  {'miner': 100.0}\n",
      "\n",
      " ----------------------------------------------------------------------------------------------------\n",
      "\n",
      "block  1\n",
      "\n",
      "header:\n",
      "nonce  :  3600\n",
      "prev_hash  :  00026d2ab0a249a731c8ac37599e3746cb97f38edfbb0e22bbab8ee72b09bc2a\n",
      "block_number  :  1\n",
      "merkle_tree_root_hash  :  0050379c95251cf5ea04f188a51f2950b1bddbd7b1a65dd5b942fe1262430eb1\n",
      "timestamp  :  1655843966162\n",
      "\n",
      "body:\n",
      "transactions  :  (('miner', 50.0), ('miner', 'Alice', 10), ('miner', 'miner', 1), ('Alice', 'Bob', 5), ('Alice', 'miner', 1))\n",
      "merkle_tree  :  Node('/0050379c95251cf5ea04f188a51f2950b1bddbd7b1a65dd5b942fe1262430eb1')\n",
      "wallets_after_block_transactions  :  {'miner': 141.0, 'Alice': 4, 'Bob': 5}\n",
      "\n",
      " ----------------------------------------------------------------------------------------------------\n",
      "\n",
      "block  2\n",
      "\n",
      "header:\n",
      "nonce  :  645\n",
      "prev_hash  :  000d23cf1f28362fee22a404f899d63ba43fd00e5c12f87750bf7cf48919fd17\n",
      "block_number  :  2\n",
      "merkle_tree_root_hash  :  47b4841b207a4c1448348eae42228d17bc3dd8dcf15bfbbedc88255567887cc3\n",
      "timestamp  :  1655844333641\n",
      "\n",
      "body:\n",
      "transactions  :  (('miner', 33.333), ('Bob', 'Bob', 2), ('Bob', 'miner', 1))\n",
      "merkle_tree  :  Node('/47b4841b207a4c1448348eae42228d17bc3dd8dcf15bfbbedc88255567887cc3')\n",
      "wallets_after_block_transactions  :  {'miner': 175.333, 'Alice': 4, 'Bob': 4}\n",
      "\n",
      " ----------------------------------------------------------------------------------------------------\n",
      "\n",
      "block  3\n",
      "\n",
      "header:\n",
      "nonce  :  0\n",
      "prev_hash  :  000d4e640981c3c48417a2703ebf41c112c33068d78635cc4dae8bc7c517c851\n",
      "block_number  :  3\n",
      "\n",
      "body:\n",
      "transactions  :  (('miner', 25.0),)\n",
      "\n",
      " ----------------------------------------------------------------------------------------------------\n"
     ]
    }
   ],
   "source": [
    "bc.show()"
   ]
  },
  {
   "cell_type": "code",
   "execution_count": 23,
   "id": "719b65a7",
   "metadata": {},
   "outputs": [
    {
     "name": "stdout",
     "output_type": "stream",
     "text": [
      "47b4841b207a4c1448348eae42228d17bc3dd8dcf15bfbbedc88255567887cc3\n",
      "├── 7921d5246cf35f6bc33376028ea662626a950852573043e674f1744a023ba079\n",
      "│   └── 24ea2234316139760800fc01a2a7e33752238d28c981627aa516e1c7d6cdfc34\n",
      "│       └── ('miner', 33.333)\n",
      "└── a9008de30b09b893f21d2a391f47bd90767de3629c1bc83cf8a913a35c8281f9\n",
      "    ├── 02afb1d376e8fe98e01d77a759c261e41051e5105eeab75aebbcceb0c1a002a0\n",
      "    │   └── ('Bob', 'Bob', 2)\n",
      "    └── e14b314e03bfd95c26374ac8a3837b39322c26e68ab1e72a2157506aabf6acd2\n",
      "        └── ('Bob', 'miner', 1)\n"
     ]
    }
   ],
   "source": [
    "bc.visualize_merkle_tree(number_block = -2)"
   ]
  },
  {
   "cell_type": "code",
   "execution_count": 24,
   "id": "d3e51548",
   "metadata": {},
   "outputs": [
    {
     "name": "stdout",
     "output_type": "stream",
     "text": [
      "{'miner': 175.333, 'Alice': 4, 'Bob': 4}\n"
     ]
    }
   ],
   "source": [
    "bc.wallets_taking_only_mined_blocks()"
   ]
  },
  {
   "cell_type": "markdown",
   "id": "33619b68",
   "metadata": {},
   "source": [
    "Chequeamos si un bloque dado es mas nuevo que otro:"
   ]
  },
  {
   "cell_type": "code",
   "execution_count": 25,
   "id": "4abaea39",
   "metadata": {},
   "outputs": [
    {
     "name": "stdout",
     "output_type": "stream",
     "text": [
      "True\n",
      "False\n"
     ]
    }
   ],
   "source": [
    "print(f.block_newer_than(bc.chain[-2],bc.chain[-3]))\n",
    "print(f.block_newer_than(bc.chain[-4],bc.chain[-2]))"
   ]
  },
  {
   "cell_type": "markdown",
   "id": "6d1ef02e",
   "metadata": {},
   "source": [
    "Intentamos realizar una transaccion usando una cuenta inexistente:"
   ]
  },
  {
   "cell_type": "code",
   "execution_count": 28,
   "id": "62be49ec",
   "metadata": {},
   "outputs": [
    {
     "ename": "KeyError",
     "evalue": "'Alice1'",
     "output_type": "error",
     "traceback": [
      "\u001b[0;31m---------------------------------------------------------------------------\u001b[0m",
      "\u001b[0;31mKeyError\u001b[0m                                  Traceback (most recent call last)",
      "\u001b[0;32m/tmp/ipykernel_148961/3469966393.py\u001b[0m in \u001b[0;36m<module>\u001b[0;34m\u001b[0m\n\u001b[1;32m      1\u001b[0m \u001b[0;31m#error para wallet inexistente\u001b[0m\u001b[0;34m\u001b[0m\u001b[0;34m\u001b[0m\u001b[0m\n\u001b[0;32m----> 2\u001b[0;31m \u001b[0mbc\u001b[0m\u001b[0;34m.\u001b[0m\u001b[0madd_transaction\u001b[0m\u001b[0;34m(\u001b[0m\u001b[0;34m(\u001b[0m\u001b[0;34m\"Alice1\"\u001b[0m\u001b[0;34m,\u001b[0m\u001b[0;34m\"Bob\"\u001b[0m\u001b[0;34m,\u001b[0m\u001b[0;36m5\u001b[0m\u001b[0;34m,\u001b[0m\u001b[0;36m1\u001b[0m\u001b[0;34m)\u001b[0m\u001b[0;34m)\u001b[0m\u001b[0;34m\u001b[0m\u001b[0;34m\u001b[0m\u001b[0m\n\u001b[0m",
      "\u001b[0;32m~/Documents/my_blockchain/my_blockchain/blockchain.py\u001b[0m in \u001b[0;36madd_transaction\u001b[0;34m(self, transaction)\u001b[0m\n\u001b[1;32m     26\u001b[0m \u001b[0;34m\u001b[0m\u001b[0m\n\u001b[1;32m     27\u001b[0m         \u001b[0;32mif\u001b[0m \u001b[0mnumber_actual_transactions\u001b[0m \u001b[0;34m+\u001b[0m \u001b[0;36m2\u001b[0m \u001b[0;34m<=\u001b[0m \u001b[0mself\u001b[0m\u001b[0;34m.\u001b[0m\u001b[0mmax_transactions_per_block\u001b[0m\u001b[0;34m:\u001b[0m\u001b[0;34m\u001b[0m\u001b[0;34m\u001b[0m\u001b[0m\n\u001b[0;32m---> 28\u001b[0;31m             \u001b[0;32massert\u001b[0m \u001b[0mself\u001b[0m\u001b[0;34m.\u001b[0m\u001b[0mwallets\u001b[0m\u001b[0;34m[\u001b[0m\u001b[0mpayer\u001b[0m\u001b[0;34m]\u001b[0m \u001b[0;34m-\u001b[0m \u001b[0mamount\u001b[0m \u001b[0;34m-\u001b[0m \u001b[0mfee\u001b[0m \u001b[0;34m>=\u001b[0m \u001b[0;36m0\u001b[0m\u001b[0;34m\u001b[0m\u001b[0;34m\u001b[0m\u001b[0m\n\u001b[0m\u001b[1;32m     29\u001b[0m             \u001b[0;31m# add transaction of cash to be sent to the payee\u001b[0m\u001b[0;34m\u001b[0m\u001b[0;34m\u001b[0m\u001b[0m\n\u001b[1;32m     30\u001b[0m             \u001b[0mself\u001b[0m\u001b[0;34m.\u001b[0m\u001b[0mwallets\u001b[0m\u001b[0;34m[\u001b[0m\u001b[0mpayer\u001b[0m\u001b[0;34m]\u001b[0m \u001b[0;34m-=\u001b[0m \u001b[0mamount\u001b[0m\u001b[0;34m\u001b[0m\u001b[0;34m\u001b[0m\u001b[0m\n",
      "\u001b[0;31mKeyError\u001b[0m: 'Alice1'"
     ]
    }
   ],
   "source": [
    "#error para wallet inexistente\n",
    "bc.add_transaction((\"Alice1\",\"Bob\",5,1))"
   ]
  }
 ],
 "metadata": {
  "kernelspec": {
   "display_name": "Python 3 (ipykernel)",
   "language": "python",
   "name": "python3"
  },
  "language_info": {
   "codemirror_mode": {
    "name": "ipython",
    "version": 3
   },
   "file_extension": ".py",
   "mimetype": "text/x-python",
   "name": "python",
   "nbconvert_exporter": "python",
   "pygments_lexer": "ipython3",
   "version": "3.9.7"
  }
 },
 "nbformat": 4,
 "nbformat_minor": 5
}
