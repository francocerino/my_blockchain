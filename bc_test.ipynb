{
 "cells": [
  {
   "cell_type": "markdown",
   "id": "3b053d87",
   "metadata": {},
   "source": [
    "- Demostración del código creado para emular una cadena de bloques."
   ]
  },
  {
   "cell_type": "code",
   "execution_count": 1,
   "id": "dcbc97c7",
   "metadata": {},
   "outputs": [],
   "source": [
    "%load_ext autoreload\n",
    "%autoreload 2\n",
    "import functions as f\n",
    "from blockchain import Blockchain"
   ]
  },
  {
   "cell_type": "markdown",
   "id": "7636a429",
   "metadata": {},
   "source": [
    "Para crear un blockchain se debe crear una instancia de la clase Blockchain.\n",
    "\n",
    "Al crear una instancia de una cadena de bloques, se debe determinar la cantidad máxima de transacciones por bloque, donde se tiene en cuenta a cada envio de fees y al pago al minero como transacciones.\n",
    "\n",
    "También se asigna un número natural \"pow_difficulty\", que indica la cantidad de ceros iniciales que debe tener el hash del bloque para completar la prueba de trabajo (PoW)."
   ]
  },
  {
   "cell_type": "code",
   "execution_count": 2,
   "id": "8bbec351",
   "metadata": {},
   "outputs": [],
   "source": [
    "bc = Blockchain(max_transactions_per_block = 5, pow_difficulty = 3)"
   ]
  },
  {
   "cell_type": "markdown",
   "id": "b0610670",
   "metadata": {},
   "source": [
    "Al inicializar la instancia, se mina el bloque cero y se crea una única cuenta llamada \"miner\" al que se le asigna cash luego de cada PoW."
   ]
  },
  {
   "cell_type": "markdown",
   "id": "5d53a408",
   "metadata": {},
   "source": [
    "Mostramos las wallets existentes con el cash que tiene cada una, teniendo en cuenta solamente los bloques minados (tomamos solo los minados porque son los que han tenido aval mediante PoW)."
   ]
  },
  {
   "cell_type": "code",
   "execution_count": 3,
   "id": "0d21f75e",
   "metadata": {},
   "outputs": [
    {
     "name": "stdout",
     "output_type": "stream",
     "text": [
      "{'miner': 100.0}\n"
     ]
    }
   ],
   "source": [
    "bc.wallets_taking_only_mined_blocks()"
   ]
  },
  {
   "cell_type": "markdown",
   "id": "2d05f4d6",
   "metadata": {},
   "source": [
    "Luego de realizar PoW, se crea automáticamente un nuevo bloque, listo para recibir transacciones.\n",
    "\n",
    "En el segundo bloque se le asigna menos cash al minero. A medida que el número de bloque es más largo, se le entrega menos premio al minero, eventualmente llegando a 0 si el número de bloque es lo suficientemente grande.\n",
    "\n",
    "Mostramos la funcion diseñada para entregar un premio decreciente al minero en función del número de bloque. El output de la función dada se redondea a 3 decimales, y por lo tanto, existe un número de bloque a partir del cual no se entrega premio al minero."
   ]
  },
  {
   "cell_type": "code",
   "execution_count": 4,
   "id": "45c388d1",
   "metadata": {},
   "outputs": [
    {
     "data": {
      "image/png": "[encoded data removed]",
      "text/plain": [
       "<Figure size 432x288 with 1 Axes>"
      ]
     },
     "metadata": {
      "needs_background": "light"
     },
     "output_type": "display_data"
    }
   ],
   "source": [
    "import matplotlib.pyplot as plt\n",
    "plt.yscale(\"log\")\n",
    "plt.ylabel(\"Premio al minero\")\n",
    "plt.xlabel(\"Número de bloque\")\n",
    "block_numbers = [i for i in range(101)]\n",
    "plt.plot(block_numbers, [round(100/(block_number+1),3) for block_number in block_numbers],\"o\", markersize = 2);"
   ]
  },
  {
   "cell_type": "markdown",
   "id": "544ab302",
   "metadata": {},
   "source": [
    "Con \"bc.show()\" se muestra todos los bloques, incluso el no minado (el último)."
   ]
  },
  {
   "cell_type": "code",
   "execution_count": 5,
   "id": "065fbc14",
   "metadata": {},
   "outputs": [
    {
     "name": "stdout",
     "output_type": "stream",
     "text": [
      "\n",
      "block  0\n",
      "\n",
      "header:\n",
      "nonce  :  16695\n",
      "block_number  :  0\n",
      "merkle_tree_root_hash  :  c46ca60643d459f7b73c9bf6fde6ae366f8671bb10e4f3228e8edb77df3f7841\n",
      "timestamp  :  1655863770843\n",
      "\n",
      "body:\n",
      "transactions  :  (('miner', 100.0),)\n",
      "merkle_tree  :  Node('/c46ca60643d459f7b73c9bf6fde6ae366f8671bb10e4f3228e8edb77df3f7841')\n",
      "wallets_after_block_transactions  :  {'miner': 100.0}\n",
      "\n",
      " ----------------------------------------------------------------------------------------------------\n",
      "\n",
      "block  1\n",
      "\n",
      "header:\n",
      "nonce  :  0\n",
      "prev_hash  :  0000dd0b452191d941c4a5f93ddc4052b90e3785f07944c97e65de10485fda0f\n",
      "block_number  :  1\n",
      "\n",
      "body:\n",
      "transactions  :  (('miner', 50.0),)\n",
      "\n",
      " ----------------------------------------------------------------------------------------------------\n"
     ]
    }
   ],
   "source": [
    "bc.show()"
   ]
  },
  {
   "cell_type": "markdown",
   "id": "9c2de9be",
   "metadata": {},
   "source": [
    "Agregamos dos cuentas. Al inicializarlas, ambas tienen cash = 0. \n",
    "\n",
    "Solo se puede crear cash a través del minado."
   ]
  },
  {
   "cell_type": "code",
   "execution_count": 6,
   "id": "871730b4",
   "metadata": {},
   "outputs": [],
   "source": [
    "bc.add_account(\"Alice\")\n",
    "bc.add_account(\"Bob\")"
   ]
  },
  {
   "cell_type": "markdown",
   "id": "af6d961c",
   "metadata": {},
   "source": [
    "Agregamos transacciones al bloque no minado.\n",
    "\n",
    "Las transacciones se realizan con una tupla de la forma (payer, payee, amount_to_transfer, fee).\n",
    "\n",
    "En el diseño realizado, el fee se determina al momento de realizar la transacción."
   ]
  },
  {
   "cell_type": "markdown",
   "id": "e7a50020",
   "metadata": {},
   "source": [
    "En este caso el único que tiene cash es el minero, entonces es él el que envía. También se paga fees a si mismo en este caso."
   ]
  },
  {
   "cell_type": "code",
   "execution_count": 7,
   "id": "99a267bd",
   "metadata": {},
   "outputs": [
    {
     "name": "stdout",
     "output_type": "stream",
     "text": [
      "Current block transactions =  3 . Max allowed =  5\n"
     ]
    }
   ],
   "source": [
    "bc.add_transaction((\"miner\",\"Alice\",10,1))"
   ]
  },
  {
   "cell_type": "markdown",
   "id": "c999865e",
   "metadata": {},
   "source": [
    "Intentamos que la cuenta \"miner\" de más cash del que tiene a \"Alice\":"
   ]
  },
  {
   "cell_type": "code",
   "execution_count": 8,
   "id": "a744ad55",
   "metadata": {},
   "outputs": [
    {
     "ename": "AssertionError",
     "evalue": "",
     "output_type": "error",
     "traceback": [
      "\u001b[0;31m---------------------------------------------------------------------------\u001b[0m",
      "\u001b[0;31mAssertionError\u001b[0m                            Traceback (most recent call last)",
      "\u001b[0;32m/tmp/ipykernel_158924/833163033.py\u001b[0m in \u001b[0;36m<module>\u001b[0;34m\u001b[0m\n\u001b[0;32m----> 1\u001b[0;31m \u001b[0mbc\u001b[0m\u001b[0;34m.\u001b[0m\u001b[0madd_transaction\u001b[0m\u001b[0;34m(\u001b[0m\u001b[0;34m(\u001b[0m\u001b[0;34m\"miner\"\u001b[0m\u001b[0;34m,\u001b[0m\u001b[0;34m\"Alice\"\u001b[0m\u001b[0;34m,\u001b[0m\u001b[0;36m1000\u001b[0m\u001b[0;34m,\u001b[0m\u001b[0;36m1\u001b[0m\u001b[0;34m)\u001b[0m\u001b[0;34m)\u001b[0m\u001b[0;34m\u001b[0m\u001b[0;34m\u001b[0m\u001b[0m\n\u001b[0m",
      "\u001b[0;32m~/Documents/my_blockchain/my_blockchain/blockchain.py\u001b[0m in \u001b[0;36madd_transaction\u001b[0;34m(self, transaction)\u001b[0m\n\u001b[1;32m     26\u001b[0m \u001b[0;34m\u001b[0m\u001b[0m\n\u001b[1;32m     27\u001b[0m         \u001b[0;32mif\u001b[0m \u001b[0mnumber_actual_transactions\u001b[0m \u001b[0;34m+\u001b[0m \u001b[0;36m2\u001b[0m \u001b[0;34m<=\u001b[0m \u001b[0mself\u001b[0m\u001b[0;34m.\u001b[0m\u001b[0mmax_transactions_per_block\u001b[0m\u001b[0;34m:\u001b[0m\u001b[0;34m\u001b[0m\u001b[0;34m\u001b[0m\u001b[0m\n\u001b[0;32m---> 28\u001b[0;31m             \u001b[0;32massert\u001b[0m \u001b[0mself\u001b[0m\u001b[0;34m.\u001b[0m\u001b[0mwallets\u001b[0m\u001b[0;34m[\u001b[0m\u001b[0mpayer\u001b[0m\u001b[0;34m]\u001b[0m \u001b[0;34m-\u001b[0m \u001b[0mamount\u001b[0m \u001b[0;34m-\u001b[0m \u001b[0mfee\u001b[0m \u001b[0;34m>=\u001b[0m \u001b[0;36m0\u001b[0m\u001b[0;34m\u001b[0m\u001b[0;34m\u001b[0m\u001b[0m\n\u001b[0m\u001b[1;32m     29\u001b[0m             \u001b[0;31m# add transaction of cash to be sent to the payee\u001b[0m\u001b[0;34m\u001b[0m\u001b[0;34m\u001b[0m\u001b[0m\n\u001b[1;32m     30\u001b[0m             \u001b[0mself\u001b[0m\u001b[0;34m.\u001b[0m\u001b[0mwallets\u001b[0m\u001b[0;34m[\u001b[0m\u001b[0mpayer\u001b[0m\u001b[0;34m]\u001b[0m \u001b[0;34m-=\u001b[0m \u001b[0mamount\u001b[0m\u001b[0;34m\u001b[0m\u001b[0;34m\u001b[0m\u001b[0m\n",
      "\u001b[0;31mAssertionError\u001b[0m: "
     ]
    }
   ],
   "source": [
    "bc.add_transaction((\"miner\",\"Alice\",1000,1))"
   ]
  },
  {
   "cell_type": "markdown",
   "id": "25aab533",
   "metadata": {},
   "source": [
    "En la transacción anterior, el minero le dio cash a Alice, entonces se puede agregar una transacción en el mismo bloque con un envío de Alice hacia otro usuario:"
   ]
  },
  {
   "cell_type": "code",
   "execution_count": 9,
   "id": "7548846c",
   "metadata": {},
   "outputs": [
    {
     "name": "stdout",
     "output_type": "stream",
     "text": [
      "Current block transactions =  5 . Max allowed =  5\n"
     ]
    }
   ],
   "source": [
    "bc.add_transaction((\"Alice\",\"Bob\",5,1))"
   ]
  },
  {
   "cell_type": "markdown",
   "id": "9535f7c5",
   "metadata": {},
   "source": [
    "Si se intenta agregar más transacciones de lo permitido, se devuelve un error:"
   ]
  },
  {
   "cell_type": "code",
   "execution_count": 10,
   "id": "b33f1156",
   "metadata": {},
   "outputs": [
    {
     "ename": "ValueError",
     "evalue": "The block is full. Mine it to add a transaction in a new block. ",
     "output_type": "error",
     "traceback": [
      "\u001b[0;31m---------------------------------------------------------------------------\u001b[0m",
      "\u001b[0;31mValueError\u001b[0m                                Traceback (most recent call last)",
      "\u001b[0;32m/tmp/ipykernel_158924/653608188.py\u001b[0m in \u001b[0;36m<module>\u001b[0;34m\u001b[0m\n\u001b[0;32m----> 1\u001b[0;31m \u001b[0mbc\u001b[0m\u001b[0;34m.\u001b[0m\u001b[0madd_transaction\u001b[0m\u001b[0;34m(\u001b[0m\u001b[0;34m(\u001b[0m\u001b[0;34m\"miner\"\u001b[0m\u001b[0;34m,\u001b[0m\u001b[0;34m\"Bob\"\u001b[0m\u001b[0;34m,\u001b[0m\u001b[0;36m20\u001b[0m\u001b[0;34m,\u001b[0m\u001b[0;36m1\u001b[0m\u001b[0;34m)\u001b[0m\u001b[0;34m)\u001b[0m\u001b[0;34m\u001b[0m\u001b[0;34m\u001b[0m\u001b[0m\n\u001b[0m",
      "\u001b[0;32m~/Documents/my_blockchain/my_blockchain/blockchain.py\u001b[0m in \u001b[0;36madd_transaction\u001b[0;34m(self, transaction)\u001b[0m\n\u001b[1;32m     41\u001b[0m \u001b[0;34m\u001b[0m\u001b[0m\n\u001b[1;32m     42\u001b[0m         \u001b[0;32melse\u001b[0m\u001b[0;34m:\u001b[0m\u001b[0;34m\u001b[0m\u001b[0;34m\u001b[0m\u001b[0m\n\u001b[0;32m---> 43\u001b[0;31m             \u001b[0;32mraise\u001b[0m \u001b[0mValueError\u001b[0m\u001b[0;34m(\u001b[0m\u001b[0;34m\"The block is full. Mine it to add a transaction in a new block. \"\u001b[0m\u001b[0;34m)\u001b[0m\u001b[0;34m\u001b[0m\u001b[0;34m\u001b[0m\u001b[0m\n\u001b[0m\u001b[1;32m     44\u001b[0m \u001b[0;34m\u001b[0m\u001b[0m\n\u001b[1;32m     45\u001b[0m     \u001b[0;32mdef\u001b[0m \u001b[0mmine_last_block\u001b[0m\u001b[0;34m(\u001b[0m\u001b[0mself\u001b[0m\u001b[0;34m)\u001b[0m\u001b[0;34m:\u001b[0m\u001b[0;34m\u001b[0m\u001b[0;34m\u001b[0m\u001b[0m\n",
      "\u001b[0;31mValueError\u001b[0m: The block is full. Mine it to add a transaction in a new block. "
     ]
    }
   ],
   "source": [
    "bc.add_transaction((\"miner\",\"Bob\",20,1))"
   ]
  },
  {
   "cell_type": "code",
   "execution_count": 11,
   "id": "025d016a",
   "metadata": {},
   "outputs": [
    {
     "name": "stdout",
     "output_type": "stream",
     "text": [
      "\n",
      "block  0\n",
      "\n",
      "header:\n",
      "nonce  :  16695\n",
      "block_number  :  0\n",
      "merkle_tree_root_hash  :  c46ca60643d459f7b73c9bf6fde6ae366f8671bb10e4f3228e8edb77df3f7841\n",
      "timestamp  :  1655863770843\n",
      "\n",
      "body:\n",
      "transactions  :  (('miner', 100.0),)\n",
      "merkle_tree  :  Node('/c46ca60643d459f7b73c9bf6fde6ae366f8671bb10e4f3228e8edb77df3f7841')\n",
      "wallets_after_block_transactions  :  {'miner': 100.0}\n",
      "\n",
      " ----------------------------------------------------------------------------------------------------\n",
      "\n",
      "block  1\n",
      "\n",
      "header:\n",
      "nonce  :  0\n",
      "prev_hash  :  0000dd0b452191d941c4a5f93ddc4052b90e3785f07944c97e65de10485fda0f\n",
      "block_number  :  1\n",
      "\n",
      "body:\n",
      "transactions  :  (('miner', 50.0), ('miner', 'Alice', 10), ('miner', 'miner', 1), ('Alice', 'Bob', 5), ('Alice', 'miner', 1))\n",
      "\n",
      " ----------------------------------------------------------------------------------------------------\n"
     ]
    }
   ],
   "source": [
    "bc.show()"
   ]
  },
  {
   "cell_type": "markdown",
   "id": "c94e1ea1",
   "metadata": {},
   "source": [
    "Minamos el último bloque. Si se desea también se puede minarlo cuando no tiene el número máximo de transacciones."
   ]
  },
  {
   "cell_type": "code",
   "execution_count": 12,
   "id": "19df6b6c",
   "metadata": {},
   "outputs": [],
   "source": [
    "bc.mine_last_block()"
   ]
  },
  {
   "cell_type": "code",
   "execution_count": 13,
   "id": "420e475e",
   "metadata": {},
   "outputs": [
    {
     "name": "stdout",
     "output_type": "stream",
     "text": [
      "\n",
      "block  0\n",
      "\n",
      "header:\n",
      "nonce  :  16695\n",
      "block_number  :  0\n",
      "merkle_tree_root_hash  :  c46ca60643d459f7b73c9bf6fde6ae366f8671bb10e4f3228e8edb77df3f7841\n",
      "timestamp  :  1655863770843\n",
      "\n",
      "body:\n",
      "transactions  :  (('miner', 100.0),)\n",
      "merkle_tree  :  Node('/c46ca60643d459f7b73c9bf6fde6ae366f8671bb10e4f3228e8edb77df3f7841')\n",
      "wallets_after_block_transactions  :  {'miner': 100.0}\n",
      "\n",
      " ----------------------------------------------------------------------------------------------------\n",
      "\n",
      "block  1\n",
      "\n",
      "header:\n",
      "nonce  :  7966\n",
      "prev_hash  :  0000dd0b452191d941c4a5f93ddc4052b90e3785f07944c97e65de10485fda0f\n",
      "block_number  :  1\n",
      "merkle_tree_root_hash  :  0050379c95251cf5ea04f188a51f2950b1bddbd7b1a65dd5b942fe1262430eb1\n",
      "timestamp  :  1655863787560\n",
      "\n",
      "body:\n",
      "transactions  :  (('miner', 50.0), ('miner', 'Alice', 10), ('miner', 'miner', 1), ('Alice', 'Bob', 5), ('Alice', 'miner', 1))\n",
      "merkle_tree  :  Node('/0050379c95251cf5ea04f188a51f2950b1bddbd7b1a65dd5b942fe1262430eb1')\n",
      "wallets_after_block_transactions  :  {'miner': 141.0, 'Alice': 4, 'Bob': 5}\n",
      "\n",
      " ----------------------------------------------------------------------------------------------------\n",
      "\n",
      "block  2\n",
      "\n",
      "header:\n",
      "nonce  :  0\n",
      "prev_hash  :  0005f3e7571428594ed2cc0d6a08ec6833839b3f4aef2fbf242243e411f9fa72\n",
      "block_number  :  2\n",
      "\n",
      "body:\n",
      "transactions  :  (('miner', 33.333),)\n",
      "\n",
      " ----------------------------------------------------------------------------------------------------\n"
     ]
    }
   ],
   "source": [
    "bc.show()"
   ]
  },
  {
   "cell_type": "markdown",
   "id": "155d5bf5",
   "metadata": {},
   "source": [
    "Mostramos el estado de las cuentas tomando solamente transacciones de bloques minados:"
   ]
  },
  {
   "cell_type": "code",
   "execution_count": 15,
   "id": "4cf1d26e",
   "metadata": {},
   "outputs": [
    {
     "name": "stdout",
     "output_type": "stream",
     "text": [
      "{'miner': 141.0, 'Alice': 4, 'Bob': 5}\n"
     ]
    }
   ],
   "source": [
    "bc.wallets_taking_only_mined_blocks()"
   ]
  },
  {
   "cell_type": "markdown",
   "id": "851e2156",
   "metadata": {},
   "source": [
    "Visualizamos como quedó el Merkle Tree del último bloque minado"
   ]
  },
  {
   "cell_type": "code",
   "execution_count": 16,
   "id": "1539b4ac",
   "metadata": {},
   "outputs": [
    {
     "name": "stdout",
     "output_type": "stream",
     "text": [
      "0050379c95251cf5ea04f188a51f2950b1bddbd7b1a65dd5b942fe1262430eb1\n",
      "├── 45ec05d1f448ba5241da2402bfcd9b15f47994a45e36ad00f66550297fe2fe6e\n",
      "│   └── d6fce19356c28302e073cfd0214f5e19010224d476360e693f651dfdac976dbb\n",
      "│       └── bb0ee4d3786b6a31864a3dfb1d50a8f2c2f70cadd12c013a80f75c85ee8e28e7\n",
      "│           └── ('miner', 50.0)\n",
      "└── b5d5062ea527c44157df087935fa66e727015dacde2e4d451cf3252be4268111\n",
      "    ├── c65c087034fb725599502e1c773e14cddc7c3cc73b7d82c38016ed18e2e15e1b\n",
      "    │   ├── b4aabe4d189f69d4ce43528d2db383d0d95edca87fe71c05174a9abfdbcf9333\n",
      "    │   │   └── ('miner', 'Alice', 10)\n",
      "    │   └── 19be4cfe23fb44f0bb679d993561ff582d010775a264d53a59bdf0c42eec785d\n",
      "    │       └── ('miner', 'miner', 1)\n",
      "    └── 5fedca3619300f47dbd7e11622121d248936f4def2534ae6172036bc972283c7\n",
      "        ├── e49c742a51b58215a3597492e160cce2df79f29443ab317628f28b2afe49c943\n",
      "        │   └── ('Alice', 'Bob', 5)\n",
      "        └── cd4dddb88b4513a320c3022c8fd7e4a6897e2b66c32df917762fe936fa2b98de\n",
      "            └── ('Alice', 'miner', 1)\n"
     ]
    }
   ],
   "source": [
    "# el valor -2 de entrada corresponde al penúltimo bloque (contando incluso al bloque no minado).\n",
    "bc.visualize_merkle_tree(number_block = -2) "
   ]
  },
  {
   "cell_type": "markdown",
   "id": "fdd7d769",
   "metadata": {},
   "source": [
    "Podemos acceder a la cadena utilizando el comando \"bc.chain\". La cadena está dada como una tupla, donde en cada entrada se tiene un diccionario que corresponde a un bloque. La primer entrada corresponde al bloque génesis o número 0, la segunda corresponde al bloque número 1 y así sucesivamente."
   ]
  },
  {
   "cell_type": "code",
   "execution_count": 17,
   "id": "39707a64",
   "metadata": {},
   "outputs": [
    {
     "data": {
      "text/plain": [
       "({'header': {'nonce': 16695,\n",
       "   'block_number': 0,\n",
       "   'merkle_tree_root_hash': 'c46ca60643d459f7b73c9bf6fde6ae366f8671bb10e4f3228e8edb77df3f7841',\n",
       "   'timestamp': 1655863770843},\n",
       "  'body': {'transactions': (('miner', 100.0),),\n",
       "   'merkle_tree': Node('/c46ca60643d459f7b73c9bf6fde6ae366f8671bb10e4f3228e8edb77df3f7841'),\n",
       "   'wallets_after_block_transactions': {'miner': 100.0}}},\n",
       " {'header': {'nonce': 7966,\n",
       "   'prev_hash': '0000dd0b452191d941c4a5f93ddc4052b90e3785f07944c97e65de10485fda0f',\n",
       "   'block_number': 1,\n",
       "   'merkle_tree_root_hash': '0050379c95251cf5ea04f188a51f2950b1bddbd7b1a65dd5b942fe1262430eb1',\n",
       "   'timestamp': 1655863787560},\n",
       "  'body': {'transactions': (('miner', 50.0),\n",
       "    ('miner', 'Alice', 10),\n",
       "    ('miner', 'miner', 1),\n",
       "    ('Alice', 'Bob', 5),\n",
       "    ('Alice', 'miner', 1)),\n",
       "   'merkle_tree': Node('/0050379c95251cf5ea04f188a51f2950b1bddbd7b1a65dd5b942fe1262430eb1'),\n",
       "   'wallets_after_block_transactions': {'miner': 141.0,\n",
       "    'Alice': 4,\n",
       "    'Bob': 5}}},\n",
       " {'header': {'nonce': 0,\n",
       "   'prev_hash': '0005f3e7571428594ed2cc0d6a08ec6833839b3f4aef2fbf242243e411f9fa72',\n",
       "   'block_number': 2},\n",
       "  'body': {'transactions': (('miner', 33.333),)}})"
      ]
     },
     "execution_count": 17,
     "metadata": {},
     "output_type": "execute_result"
    }
   ],
   "source": [
    "bc.chain"
   ]
  },
  {
   "cell_type": "code",
   "execution_count": 18,
   "id": "31f86622",
   "metadata": {},
   "outputs": [
    {
     "data": {
      "text/plain": [
       "{'header': {'nonce': 16695,\n",
       "  'block_number': 0,\n",
       "  'merkle_tree_root_hash': 'c46ca60643d459f7b73c9bf6fde6ae366f8671bb10e4f3228e8edb77df3f7841',\n",
       "  'timestamp': 1655863770843},\n",
       " 'body': {'transactions': (('miner', 100.0),),\n",
       "  'merkle_tree': Node('/c46ca60643d459f7b73c9bf6fde6ae366f8671bb10e4f3228e8edb77df3f7841'),\n",
       "  'wallets_after_block_transactions': {'miner': 100.0}}}"
      ]
     },
     "execution_count": 18,
     "metadata": {},
     "output_type": "execute_result"
    }
   ],
   "source": [
    "# bloque génesis\n",
    "bc.chain[0]"
   ]
  },
  {
   "cell_type": "code",
   "execution_count": 19,
   "id": "47ed857d",
   "metadata": {},
   "outputs": [
    {
     "data": {
      "text/plain": [
       "{'header': {'nonce': 7966,\n",
       "  'prev_hash': '0000dd0b452191d941c4a5f93ddc4052b90e3785f07944c97e65de10485fda0f',\n",
       "  'block_number': 1,\n",
       "  'merkle_tree_root_hash': '0050379c95251cf5ea04f188a51f2950b1bddbd7b1a65dd5b942fe1262430eb1',\n",
       "  'timestamp': 1655863787560},\n",
       " 'body': {'transactions': (('miner', 50.0),\n",
       "   ('miner', 'Alice', 10),\n",
       "   ('miner', 'miner', 1),\n",
       "   ('Alice', 'Bob', 5),\n",
       "   ('Alice', 'miner', 1)),\n",
       "  'merkle_tree': Node('/0050379c95251cf5ea04f188a51f2950b1bddbd7b1a65dd5b942fe1262430eb1'),\n",
       "  'wallets_after_block_transactions': {'miner': 141.0, 'Alice': 4, 'Bob': 5}}}"
      ]
     },
     "execution_count": 19,
     "metadata": {},
     "output_type": "execute_result"
    }
   ],
   "source": [
    "# bloque número 1\n",
    "bc.chain[1]"
   ]
  },
  {
   "cell_type": "markdown",
   "id": "0d3f2c64",
   "metadata": {},
   "source": [
    "Veamos si el hash del head del último bloque minado es el hash guardado en el bloque siguiente:"
   ]
  },
  {
   "cell_type": "code",
   "execution_count": 20,
   "id": "7e7a2046",
   "metadata": {},
   "outputs": [
    {
     "name": "stdout",
     "output_type": "stream",
     "text": [
      "0005f3e7571428594ed2cc0d6a08ec6833839b3f4aef2fbf242243e411f9fa72\n",
      "0005f3e7571428594ed2cc0d6a08ec6833839b3f4aef2fbf242243e411f9fa72\n",
      "True\n"
     ]
    }
   ],
   "source": [
    "idx = -2\n",
    "hash_header_block = f.string_to_hash(str((bc.chain[idx][\"header\"])))\n",
    "hash_saved = bc.chain[idx+1][\"header\"][\"prev_hash\"]\n",
    "\n",
    "print(f\"{hash_header_block}\\n{hash_saved}\")\n",
    "print(hash_header_block == hash_saved)"
   ]
  },
  {
   "cell_type": "markdown",
   "id": "e176d823",
   "metadata": {},
   "source": [
    "Veamos el estado de las cuentas y minemos un bloque realizando un único envío de dinero."
   ]
  },
  {
   "cell_type": "code",
   "execution_count": 21,
   "id": "2be6154f",
   "metadata": {},
   "outputs": [
    {
     "name": "stdout",
     "output_type": "stream",
     "text": [
      "{'miner': 141.0, 'Alice': 4, 'Bob': 5}\n"
     ]
    }
   ],
   "source": [
    "bc.wallets_taking_only_mined_blocks()"
   ]
  },
  {
   "cell_type": "markdown",
   "id": "220be0f6",
   "metadata": {},
   "source": [
    "Realizamos un envio de dinero de Bob a si mismo."
   ]
  },
  {
   "cell_type": "code",
   "execution_count": 22,
   "id": "8b30d919",
   "metadata": {},
   "outputs": [
    {
     "name": "stdout",
     "output_type": "stream",
     "text": [
      "Current block transactions =  3 . Max allowed =  5\n"
     ]
    }
   ],
   "source": [
    "bc.add_transaction((\"Bob\",\"Bob\",2,1)) # Bob termina perdiendo 1 de cash porque paga un fee de 1 al minero."
   ]
  },
  {
   "cell_type": "code",
   "execution_count": 23,
   "id": "9b34c586",
   "metadata": {},
   "outputs": [],
   "source": [
    "bc.mine_last_block()"
   ]
  },
  {
   "cell_type": "code",
   "execution_count": 24,
   "id": "828e669b",
   "metadata": {
    "scrolled": true
   },
   "outputs": [
    {
     "name": "stdout",
     "output_type": "stream",
     "text": [
      "\n",
      "block  0\n",
      "\n",
      "header:\n",
      "nonce  :  16695\n",
      "block_number  :  0\n",
      "merkle_tree_root_hash  :  c46ca60643d459f7b73c9bf6fde6ae366f8671bb10e4f3228e8edb77df3f7841\n",
      "timestamp  :  1655863770843\n",
      "\n",
      "body:\n",
      "transactions  :  (('miner', 100.0),)\n",
      "merkle_tree  :  Node('/c46ca60643d459f7b73c9bf6fde6ae366f8671bb10e4f3228e8edb77df3f7841')\n",
      "wallets_after_block_transactions  :  {'miner': 100.0}\n",
      "\n",
      " ----------------------------------------------------------------------------------------------------\n",
      "\n",
      "block  1\n",
      "\n",
      "header:\n",
      "nonce  :  7966\n",
      "prev_hash  :  0000dd0b452191d941c4a5f93ddc4052b90e3785f07944c97e65de10485fda0f\n",
      "block_number  :  1\n",
      "merkle_tree_root_hash  :  0050379c95251cf5ea04f188a51f2950b1bddbd7b1a65dd5b942fe1262430eb1\n",
      "timestamp  :  1655863787560\n",
      "\n",
      "body:\n",
      "transactions  :  (('miner', 50.0), ('miner', 'Alice', 10), ('miner', 'miner', 1), ('Alice', 'Bob', 5), ('Alice', 'miner', 1))\n",
      "merkle_tree  :  Node('/0050379c95251cf5ea04f188a51f2950b1bddbd7b1a65dd5b942fe1262430eb1')\n",
      "wallets_after_block_transactions  :  {'miner': 141.0, 'Alice': 4, 'Bob': 5}\n",
      "\n",
      " ----------------------------------------------------------------------------------------------------\n",
      "\n",
      "block  2\n",
      "\n",
      "header:\n",
      "nonce  :  8917\n",
      "prev_hash  :  0005f3e7571428594ed2cc0d6a08ec6833839b3f4aef2fbf242243e411f9fa72\n",
      "block_number  :  2\n",
      "merkle_tree_root_hash  :  47b4841b207a4c1448348eae42228d17bc3dd8dcf15bfbbedc88255567887cc3\n",
      "timestamp  :  1655863888777\n",
      "\n",
      "body:\n",
      "transactions  :  (('miner', 33.333), ('Bob', 'Bob', 2), ('Bob', 'miner', 1))\n",
      "merkle_tree  :  Node('/47b4841b207a4c1448348eae42228d17bc3dd8dcf15bfbbedc88255567887cc3')\n",
      "wallets_after_block_transactions  :  {'miner': 175.333, 'Alice': 4, 'Bob': 4}\n",
      "\n",
      " ----------------------------------------------------------------------------------------------------\n",
      "\n",
      "block  3\n",
      "\n",
      "header:\n",
      "nonce  :  0\n",
      "prev_hash  :  0002b9d37226d1fc25a00a6749647b21327cea7cd311d1f618d9bb2e38a7e455\n",
      "block_number  :  3\n",
      "\n",
      "body:\n",
      "transactions  :  (('miner', 25.0),)\n",
      "\n",
      " ----------------------------------------------------------------------------------------------------\n"
     ]
    }
   ],
   "source": [
    "bc.show()"
   ]
  },
  {
   "cell_type": "markdown",
   "id": "959b75ed",
   "metadata": {},
   "source": [
    "Veamos el Merkle Tree del último bloque minado:"
   ]
  },
  {
   "cell_type": "code",
   "execution_count": 25,
   "id": "49c64e5b",
   "metadata": {},
   "outputs": [
    {
     "name": "stdout",
     "output_type": "stream",
     "text": [
      "47b4841b207a4c1448348eae42228d17bc3dd8dcf15bfbbedc88255567887cc3\n",
      "├── 7921d5246cf35f6bc33376028ea662626a950852573043e674f1744a023ba079\n",
      "│   └── 24ea2234316139760800fc01a2a7e33752238d28c981627aa516e1c7d6cdfc34\n",
      "│       └── ('miner', 33.333)\n",
      "└── a9008de30b09b893f21d2a391f47bd90767de3629c1bc83cf8a913a35c8281f9\n",
      "    ├── 02afb1d376e8fe98e01d77a759c261e41051e5105eeab75aebbcceb0c1a002a0\n",
      "    │   └── ('Bob', 'Bob', 2)\n",
      "    └── e14b314e03bfd95c26374ac8a3837b39322c26e68ab1e72a2157506aabf6acd2\n",
      "        └── ('Bob', 'miner', 1)\n"
     ]
    }
   ],
   "source": [
    "bc.visualize_merkle_tree(number_block = -2)"
   ]
  },
  {
   "cell_type": "code",
   "execution_count": 26,
   "id": "293b870f",
   "metadata": {},
   "outputs": [
    {
     "name": "stdout",
     "output_type": "stream",
     "text": [
      "{'miner': 175.333, 'Alice': 4, 'Bob': 4}\n"
     ]
    }
   ],
   "source": [
    "bc.wallets_taking_only_mined_blocks()"
   ]
  },
  {
   "cell_type": "markdown",
   "id": "c91b02ab",
   "metadata": {},
   "source": [
    "Si queremos chequear si un bloque dado es mas nuevo que otro, podemos utilizar la siguiente función:"
   ]
  },
  {
   "cell_type": "code",
   "execution_count": 27,
   "id": "4abaea39",
   "metadata": {},
   "outputs": [
    {
     "name": "stdout",
     "output_type": "stream",
     "text": [
      "True\n",
      "False\n"
     ]
    }
   ],
   "source": [
    "print(f.block_newer_than(bc.chain[-2],bc.chain[-3]))\n",
    "print(f.block_newer_than(bc.chain[-4],bc.chain[-2]))"
   ]
  },
  {
   "cell_type": "markdown",
   "id": "89511dbd",
   "metadata": {},
   "source": [
    "Si intentamos realizar una transaccion usando una cuenta inexistente, obtenemos un error:"
   ]
  },
  {
   "cell_type": "code",
   "execution_count": 28,
   "id": "62be49ec",
   "metadata": {},
   "outputs": [
    {
     "ename": "KeyError",
     "evalue": "'Alice1'",
     "output_type": "error",
     "traceback": [
      "\u001b[0;31m---------------------------------------------------------------------------\u001b[0m",
      "\u001b[0;31mKeyError\u001b[0m                                  Traceback (most recent call last)",
      "\u001b[0;32m/tmp/ipykernel_158924/3469966393.py\u001b[0m in \u001b[0;36m<module>\u001b[0;34m\u001b[0m\n\u001b[1;32m      1\u001b[0m \u001b[0;31m#error para wallet inexistente\u001b[0m\u001b[0;34m\u001b[0m\u001b[0;34m\u001b[0m\u001b[0m\n\u001b[0;32m----> 2\u001b[0;31m \u001b[0mbc\u001b[0m\u001b[0;34m.\u001b[0m\u001b[0madd_transaction\u001b[0m\u001b[0;34m(\u001b[0m\u001b[0;34m(\u001b[0m\u001b[0;34m\"Alice1\"\u001b[0m\u001b[0;34m,\u001b[0m\u001b[0;34m\"Bob\"\u001b[0m\u001b[0;34m,\u001b[0m\u001b[0;36m5\u001b[0m\u001b[0;34m,\u001b[0m\u001b[0;36m1\u001b[0m\u001b[0;34m)\u001b[0m\u001b[0;34m)\u001b[0m\u001b[0;34m\u001b[0m\u001b[0;34m\u001b[0m\u001b[0m\n\u001b[0m",
      "\u001b[0;32m~/Documents/my_blockchain/my_blockchain/blockchain.py\u001b[0m in \u001b[0;36madd_transaction\u001b[0;34m(self, transaction)\u001b[0m\n\u001b[1;32m     26\u001b[0m \u001b[0;34m\u001b[0m\u001b[0m\n\u001b[1;32m     27\u001b[0m         \u001b[0;32mif\u001b[0m \u001b[0mnumber_actual_transactions\u001b[0m \u001b[0;34m+\u001b[0m \u001b[0;36m2\u001b[0m \u001b[0;34m<=\u001b[0m \u001b[0mself\u001b[0m\u001b[0;34m.\u001b[0m\u001b[0mmax_transactions_per_block\u001b[0m\u001b[0;34m:\u001b[0m\u001b[0;34m\u001b[0m\u001b[0;34m\u001b[0m\u001b[0m\n\u001b[0;32m---> 28\u001b[0;31m             \u001b[0;32massert\u001b[0m \u001b[0mself\u001b[0m\u001b[0;34m.\u001b[0m\u001b[0mwallets\u001b[0m\u001b[0;34m[\u001b[0m\u001b[0mpayer\u001b[0m\u001b[0;34m]\u001b[0m \u001b[0;34m-\u001b[0m \u001b[0mamount\u001b[0m \u001b[0;34m-\u001b[0m \u001b[0mfee\u001b[0m \u001b[0;34m>=\u001b[0m \u001b[0;36m0\u001b[0m\u001b[0;34m\u001b[0m\u001b[0;34m\u001b[0m\u001b[0m\n\u001b[0m\u001b[1;32m     29\u001b[0m             \u001b[0;31m# add transaction of cash to be sent to the payee\u001b[0m\u001b[0;34m\u001b[0m\u001b[0;34m\u001b[0m\u001b[0m\n\u001b[1;32m     30\u001b[0m             \u001b[0mself\u001b[0m\u001b[0;34m.\u001b[0m\u001b[0mwallets\u001b[0m\u001b[0;34m[\u001b[0m\u001b[0mpayer\u001b[0m\u001b[0;34m]\u001b[0m \u001b[0;34m-=\u001b[0m \u001b[0mamount\u001b[0m\u001b[0;34m\u001b[0m\u001b[0;34m\u001b[0m\u001b[0m\n",
      "\u001b[0;31mKeyError\u001b[0m: 'Alice1'"
     ]
    }
   ],
   "source": [
    "#error para wallet inexistente\n",
    "bc.add_transaction((\"Alice1\",\"Bob\",5,1))"
   ]
  }
 ],
 "metadata": {
  "kernelspec": {
   "display_name": "Python 3 (ipykernel)",
   "language": "python",
   "name": "python3"
  },
  "language_info": {
   "codemirror_mode": {
    "name": "ipython",
    "version": 3
   },
   "file_extension": ".py",
   "mimetype": "text/x-python",
   "name": "python",
   "nbconvert_exporter": "python",
   "pygments_lexer": "ipython3",
   "version": "3.9.7"
  }
 },
 "nbformat": 4,
 "nbformat_minor": 5
}
