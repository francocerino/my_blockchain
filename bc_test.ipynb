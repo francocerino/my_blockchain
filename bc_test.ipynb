{
 "cells": [
  {
   "cell_type": "code",
   "execution_count": 33,
   "id": "dcbc97c7",
   "metadata": {},
   "outputs": [
    {
     "name": "stdout",
     "output_type": "stream",
     "text": [
      "The autoreload extension is already loaded. To reload it, use:\n",
      "  %reload_ext autoreload\n"
     ]
    }
   ],
   "source": [
    "%load_ext autoreload\n",
    "%autoreload 2\n",
    "import functions as f\n",
    "from blockchain import Blockchain\n",
    "from anytree.exporter import DotExporter"
   ]
  },
  {
   "cell_type": "code",
   "execution_count": 13,
   "id": "8bbec351",
   "metadata": {},
   "outputs": [],
   "source": [
    "bc = Blockchain(max_transactions_per_block = 5)#, pow_difficulty = 2)"
   ]
  },
  {
   "cell_type": "code",
   "execution_count": 14,
   "id": "e0a1e8cb",
   "metadata": {},
   "outputs": [
    {
     "data": {
      "text/plain": [
       "({'header': {'timestamp': 1655432363153, 'block_number': 0}},\n",
       " {'header': {'prev_hash': '4ada20c12cd3d43929e187d136d23761de880c87f1d0596f9be863b6cc3f71f7',\n",
       "   'block_number': 1,\n",
       "   'nonce': 0},\n",
       "  'body': {'transactions': ()}})"
      ]
     },
     "execution_count": 14,
     "metadata": {},
     "output_type": "execute_result"
    }
   ],
   "source": [
    "bc.chain"
   ]
  },
  {
   "cell_type": "code",
   "execution_count": 15,
   "id": "d7689149",
   "metadata": {},
   "outputs": [
    {
     "data": {
      "text/plain": [
       "{'Alice': 50, 'Bob': 2}"
      ]
     },
     "execution_count": 15,
     "metadata": {},
     "output_type": "execute_result"
    }
   ],
   "source": [
    "def add_account(wallets,name_account,cash):\n",
    "    # add account with amount of cash (in a real case, initial cash must be 0)\n",
    "    assert type(name_account) is str\n",
    "    if name_account not in wallets.keys():\n",
    "        wallets[name_account] = cash\n",
    "    else:\n",
    "        raise ValueError(\"Account name already exists\")\n",
    "    return wallets\n",
    "\n",
    "wallets = {}\n",
    "wallets = add_account(wallets,\"Alice\",50)\n",
    "wallets = add_account(wallets,\"Bob\",2)\n",
    "wallets"
   ]
  },
  {
   "cell_type": "code",
   "execution_count": 16,
   "id": "c4e901f5",
   "metadata": {},
   "outputs": [
    {
     "ename": "ValueError",
     "evalue": "Account name already exists",
     "output_type": "error",
     "traceback": [
      "\u001b[0;31m---------------------------------------------------------------------------\u001b[0m",
      "\u001b[0;31mValueError\u001b[0m                                Traceback (most recent call last)",
      "\u001b[0;32m/tmp/ipykernel_218629/2361777873.py\u001b[0m in \u001b[0;36m<module>\u001b[0;34m\u001b[0m\n\u001b[0;32m----> 1\u001b[0;31m \u001b[0madd_account\u001b[0m\u001b[0;34m(\u001b[0m\u001b[0mwallets\u001b[0m\u001b[0;34m,\u001b[0m\u001b[0;34m\"Bob\"\u001b[0m\u001b[0;34m,\u001b[0m\u001b[0;36m2\u001b[0m\u001b[0;34m)\u001b[0m\u001b[0;34m\u001b[0m\u001b[0;34m\u001b[0m\u001b[0m\n\u001b[0m",
      "\u001b[0;32m/tmp/ipykernel_218629/2443822675.py\u001b[0m in \u001b[0;36madd_account\u001b[0;34m(wallets, name_account, cash)\u001b[0m\n\u001b[1;32m      5\u001b[0m         \u001b[0mwallets\u001b[0m\u001b[0;34m[\u001b[0m\u001b[0mname_account\u001b[0m\u001b[0;34m]\u001b[0m \u001b[0;34m=\u001b[0m \u001b[0mcash\u001b[0m\u001b[0;34m\u001b[0m\u001b[0;34m\u001b[0m\u001b[0m\n\u001b[1;32m      6\u001b[0m     \u001b[0;32melse\u001b[0m\u001b[0;34m:\u001b[0m\u001b[0;34m\u001b[0m\u001b[0;34m\u001b[0m\u001b[0m\n\u001b[0;32m----> 7\u001b[0;31m       \u001b[0;32mraise\u001b[0m \u001b[0mValueError\u001b[0m\u001b[0;34m(\u001b[0m\u001b[0;34m\"Account name already exists\"\u001b[0m\u001b[0;34m)\u001b[0m\u001b[0;34m\u001b[0m\u001b[0;34m\u001b[0m\u001b[0m\n\u001b[0m\u001b[1;32m      8\u001b[0m     \u001b[0;32mreturn\u001b[0m \u001b[0mwallets\u001b[0m\u001b[0;34m\u001b[0m\u001b[0;34m\u001b[0m\u001b[0m\n\u001b[1;32m      9\u001b[0m \u001b[0;34m\u001b[0m\u001b[0m\n",
      "\u001b[0;31mValueError\u001b[0m: Account name already exists"
     ]
    }
   ],
   "source": [
    "add_account(wallets,\"Bob\",2)"
   ]
  },
  {
   "cell_type": "code",
   "execution_count": 17,
   "id": "99a267bd",
   "metadata": {},
   "outputs": [
    {
     "data": {
      "text/plain": [
       "({'header': {'timestamp': 1655432363153, 'block_number': 0}},\n",
       " {'header': {'prev_hash': '4ada20c12cd3d43929e187d136d23761de880c87f1d0596f9be863b6cc3f71f7',\n",
       "   'block_number': 1,\n",
       "   'nonce': 0},\n",
       "  'body': {'transactions': (('Alice', 'Bob', 0),\n",
       "    ('Alice', 'Bob', 1),\n",
       "    ('Alice', 'Bob', 2),\n",
       "    ('Alice', 'Bob', 3),\n",
       "    ('Alice', 'Bob', 4))}})"
      ]
     },
     "execution_count": 17,
     "metadata": {},
     "output_type": "execute_result"
    }
   ],
   "source": [
    "for i in range(5):    \n",
    "    bc.add_transaction(wallets,(\"Alice\",\"Bob\",i))\n",
    "\n",
    "bc.chain"
   ]
  },
  {
   "cell_type": "code",
   "execution_count": 22,
   "id": "19df6b6c",
   "metadata": {},
   "outputs": [
    {
     "name": "stdout",
     "output_type": "stream",
     "text": [
      "len(shallower_nodes)= 3\n",
      "len(shallower_nodes)= 2\n",
      "len(shallower_nodes)= 1\n"
     ]
    }
   ],
   "source": [
    "bc.mine_last_block()"
   ]
  },
  {
   "cell_type": "code",
   "execution_count": 23,
   "id": "51702716",
   "metadata": {},
   "outputs": [
    {
     "name": "stdout",
     "output_type": "stream",
     "text": [
      "0  :  {'header': {'timestamp': 1655432363153, 'block_number': 0}} \n",
      "\n",
      "\n",
      "1  :  {'header': {'prev_hash': '4ada20c12cd3d43929e187d136d23761de880c87f1d0596f9be863b6cc3f71f7', 'block_number': 1, 'nonce': 31, 'merkle_tree_root_hash': '676ded3928c7e8e9e0ca28ae28dc8487882bb74d2f2e9488ab99250e1afa4b0d', 'timestamp': 1655432657839}, 'body': {'transactions': (('Alice', 'Bob', 0), ('Alice', 'Bob', 1), ('Alice', 'Bob', 2), ('Alice', 'Bob', 3), ('Alice', 'Bob', 4)), 'merkle_tree': Node('/676ded3928c7e8e9e0ca28ae28dc8487882bb74d2f2e9488ab99250e1afa4b0d')}} \n",
      "\n",
      "\n",
      "2  :  {'header': {'prev_hash': '007aa41e93a728eeba9188d5baab3eae77db13802253bac5660d77c0f7c9ba22', 'block_number': 2, 'nonce': 0}, 'body': {'transactions': ()}} \n",
      "\n",
      "\n"
     ]
    }
   ],
   "source": [
    "for idx,block in enumerate(bc.chain):\n",
    "    print(idx,\" : \",block,\"\\n\\n\")"
   ]
  },
  {
   "cell_type": "code",
   "execution_count": 26,
   "id": "7e7a2046",
   "metadata": {},
   "outputs": [
    {
     "data": {
      "text/plain": [
       "True"
      ]
     },
     "execution_count": 26,
     "metadata": {},
     "output_type": "execute_result"
    }
   ],
   "source": [
    "f.string_to_hash(str((bc.chain[1][\"header\"]))) == bc.chain[2][\"header\"][\"prev_hash\"]"
   ]
  },
  {
   "cell_type": "code",
   "execution_count": 27,
   "id": "ab3ca4f2",
   "metadata": {},
   "outputs": [
    {
     "data": {
      "text/plain": [
       "{'Alice': 40, 'Bob': 12}"
      ]
     },
     "execution_count": 27,
     "metadata": {},
     "output_type": "execute_result"
    }
   ],
   "source": [
    "wallets"
   ]
  },
  {
   "cell_type": "code",
   "execution_count": 28,
   "id": "8b30d919",
   "metadata": {},
   "outputs": [],
   "source": [
    "bc.add_transaction(wallets,(\"Bob\",\"Bob\",5))"
   ]
  },
  {
   "cell_type": "code",
   "execution_count": 29,
   "id": "fc902779",
   "metadata": {},
   "outputs": [
    {
     "name": "stdout",
     "output_type": "stream",
     "text": [
      "0  :  {'header': {'timestamp': 1655432363153, 'block_number': 0}} \n",
      "\n",
      "\n",
      "1  :  {'header': {'prev_hash': '4ada20c12cd3d43929e187d136d23761de880c87f1d0596f9be863b6cc3f71f7', 'block_number': 1, 'nonce': 31, 'merkle_tree_root_hash': '676ded3928c7e8e9e0ca28ae28dc8487882bb74d2f2e9488ab99250e1afa4b0d', 'timestamp': 1655432657839}, 'body': {'transactions': (('Alice', 'Bob', 0), ('Alice', 'Bob', 1), ('Alice', 'Bob', 2), ('Alice', 'Bob', 3), ('Alice', 'Bob', 4)), 'merkle_tree': Node('/676ded3928c7e8e9e0ca28ae28dc8487882bb74d2f2e9488ab99250e1afa4b0d')}} \n",
      "\n",
      "\n",
      "2  :  {'header': {'prev_hash': '007aa41e93a728eeba9188d5baab3eae77db13802253bac5660d77c0f7c9ba22', 'block_number': 2, 'nonce': 0}, 'body': {'transactions': (('Bob', 'Bob', 5),)}} \n",
      "\n",
      "\n"
     ]
    }
   ],
   "source": [
    "for idx,block in enumerate(bc.chain):\n",
    "    print(idx,\" : \",block,\"\\n\\n\")"
   ]
  },
  {
   "cell_type": "code",
   "execution_count": 30,
   "id": "c3399699",
   "metadata": {},
   "outputs": [
    {
     "data": {
      "text/plain": [
       "{'Alice': 40, 'Bob': 12}"
      ]
     },
     "execution_count": 30,
     "metadata": {},
     "output_type": "execute_result"
    }
   ],
   "source": [
    "wallets"
   ]
  },
  {
   "cell_type": "code",
   "execution_count": 31,
   "id": "9b34c586",
   "metadata": {},
   "outputs": [],
   "source": [
    "bc.mine_last_block()"
   ]
  },
  {
   "cell_type": "code",
   "execution_count": 32,
   "id": "828e669b",
   "metadata": {},
   "outputs": [
    {
     "name": "stdout",
     "output_type": "stream",
     "text": [
      "0  :  {'header': {'timestamp': 1655432363153, 'block_number': 0}} \n",
      "\n",
      "\n",
      "1  :  {'header': {'prev_hash': '4ada20c12cd3d43929e187d136d23761de880c87f1d0596f9be863b6cc3f71f7', 'block_number': 1, 'nonce': 31, 'merkle_tree_root_hash': '676ded3928c7e8e9e0ca28ae28dc8487882bb74d2f2e9488ab99250e1afa4b0d', 'timestamp': 1655432657839}, 'body': {'transactions': (('Alice', 'Bob', 0), ('Alice', 'Bob', 1), ('Alice', 'Bob', 2), ('Alice', 'Bob', 3), ('Alice', 'Bob', 4)), 'merkle_tree': Node('/676ded3928c7e8e9e0ca28ae28dc8487882bb74d2f2e9488ab99250e1afa4b0d')}} \n",
      "\n",
      "\n",
      "2  :  {'header': {'prev_hash': '007aa41e93a728eeba9188d5baab3eae77db13802253bac5660d77c0f7c9ba22', 'block_number': 2, 'nonce': 221, 'merkle_tree_root_hash': '36f3e7f99d5006a15779c4bcff31f0c36915cdf2c800edd8d328fac0646955ad', 'timestamp': 1655432752679}, 'body': {'transactions': (('Bob', 'Bob', 5),), 'merkle_tree': Node('/36f3e7f99d5006a15779c4bcff31f0c36915cdf2c800edd8d328fac0646955ad')}} \n",
      "\n",
      "\n",
      "3  :  {'header': {'prev_hash': '008d5b6d1ea080a22563bbc8ab019ad54c0212688eb0b659959cd05dae65c38b', 'block_number': 3, 'nonce': 0}, 'body': {'transactions': ()}} \n",
      "\n",
      "\n"
     ]
    }
   ],
   "source": [
    "for idx,block in enumerate(bc.chain):\n",
    "    print(idx,\" : \",block,\"\\n\\n\")"
   ]
  },
  {
   "cell_type": "code",
   "execution_count": 34,
   "id": "bf2336ab",
   "metadata": {},
   "outputs": [],
   "source": [
    "merkle_tree = bc.chain[-3][\"body\"][\"merkle_tree\"]\n",
    "\n",
    "DotExporter(merkle_tree).to_picture(\"merkle_tree.png\")"
   ]
  },
  {
   "cell_type": "code",
   "execution_count": 35,
   "id": "4abaea39",
   "metadata": {},
   "outputs": [
    {
     "name": "stdout",
     "output_type": "stream",
     "text": [
      "True\n",
      "False\n"
     ]
    }
   ],
   "source": [
    "def block_newer_than(block1,block2):\n",
    "    return block1[\"header\"][\"timestamp\"] > block2[\"header\"][\"timestamp\"]\n",
    "\n",
    "print(block_newer_than(bc.chain[-2],bc.chain[-3]))\n",
    "print(block_newer_than(bc.chain[-4],bc.chain[-2]))"
   ]
  },
  {
   "cell_type": "code",
   "execution_count": 36,
   "id": "62be49ec",
   "metadata": {},
   "outputs": [
    {
     "ename": "KeyError",
     "evalue": "'Alice1'",
     "output_type": "error",
     "traceback": [
      "\u001b[0;31m---------------------------------------------------------------------------\u001b[0m",
      "\u001b[0;31mKeyError\u001b[0m                                  Traceback (most recent call last)",
      "\u001b[0;32m/tmp/ipykernel_218629/1242289649.py\u001b[0m in \u001b[0;36m<module>\u001b[0;34m\u001b[0m\n\u001b[0;32m----> 1\u001b[0;31m \u001b[0mbc\u001b[0m\u001b[0;34m.\u001b[0m\u001b[0madd_transaction\u001b[0m\u001b[0;34m(\u001b[0m\u001b[0mwallets\u001b[0m\u001b[0;34m,\u001b[0m\u001b[0;34m(\u001b[0m\u001b[0;34m\"Alice1\"\u001b[0m\u001b[0;34m,\u001b[0m\u001b[0;34m\"Bob\"\u001b[0m\u001b[0;34m,\u001b[0m\u001b[0;36m5\u001b[0m\u001b[0;34m)\u001b[0m\u001b[0;34m)\u001b[0m\u001b[0;34m\u001b[0m\u001b[0;34m\u001b[0m\u001b[0m\n\u001b[0m",
      "\u001b[0;32m~/Documents/my_blockchain/blockchain.py\u001b[0m in \u001b[0;36madd_transaction\u001b[0;34m(self, wallets, transaction)\u001b[0m\n\u001b[1;32m     24\u001b[0m         \u001b[0mnumber_actual_transactions\u001b[0m \u001b[0;34m=\u001b[0m \u001b[0mlen\u001b[0m\u001b[0;34m(\u001b[0m\u001b[0mself\u001b[0m\u001b[0;34m.\u001b[0m\u001b[0mchain\u001b[0m\u001b[0;34m[\u001b[0m\u001b[0;34m-\u001b[0m\u001b[0;36m1\u001b[0m\u001b[0;34m]\u001b[0m\u001b[0;34m[\u001b[0m\u001b[0;34m\"body\"\u001b[0m\u001b[0;34m]\u001b[0m\u001b[0;34m[\u001b[0m\u001b[0;34m\"transactions\"\u001b[0m\u001b[0;34m]\u001b[0m\u001b[0;34m)\u001b[0m\u001b[0;34m\u001b[0m\u001b[0;34m\u001b[0m\u001b[0m\n\u001b[1;32m     25\u001b[0m         \u001b[0;32mif\u001b[0m \u001b[0mnumber_actual_transactions\u001b[0m \u001b[0;34m<\u001b[0m \u001b[0mself\u001b[0m\u001b[0;34m.\u001b[0m\u001b[0mmax_transactions_per_block\u001b[0m\u001b[0;34m:\u001b[0m\u001b[0;34m\u001b[0m\u001b[0;34m\u001b[0m\u001b[0m\n\u001b[0;32m---> 26\u001b[0;31m             \u001b[0;32massert\u001b[0m \u001b[0mwallets\u001b[0m\u001b[0;34m[\u001b[0m\u001b[0mtransaction\u001b[0m\u001b[0;34m[\u001b[0m\u001b[0;36m0\u001b[0m\u001b[0;34m]\u001b[0m\u001b[0;34m]\u001b[0m \u001b[0;34m-\u001b[0m \u001b[0mtransaction\u001b[0m\u001b[0;34m[\u001b[0m\u001b[0;36m2\u001b[0m\u001b[0;34m]\u001b[0m \u001b[0;34m>=\u001b[0m \u001b[0;36m0\u001b[0m\u001b[0;34m\u001b[0m\u001b[0;34m\u001b[0m\u001b[0m\n\u001b[0m\u001b[1;32m     27\u001b[0m             \u001b[0mwallets\u001b[0m\u001b[0;34m[\u001b[0m\u001b[0mtransaction\u001b[0m\u001b[0;34m[\u001b[0m\u001b[0;36m0\u001b[0m\u001b[0;34m]\u001b[0m\u001b[0;34m]\u001b[0m \u001b[0;34m-=\u001b[0m \u001b[0mtransaction\u001b[0m\u001b[0;34m[\u001b[0m\u001b[0;36m2\u001b[0m\u001b[0;34m]\u001b[0m\u001b[0;34m\u001b[0m\u001b[0;34m\u001b[0m\u001b[0m\n\u001b[1;32m     28\u001b[0m             \u001b[0mwallets\u001b[0m\u001b[0;34m[\u001b[0m\u001b[0mtransaction\u001b[0m\u001b[0;34m[\u001b[0m\u001b[0;36m1\u001b[0m\u001b[0;34m]\u001b[0m\u001b[0;34m]\u001b[0m \u001b[0;34m+=\u001b[0m \u001b[0mtransaction\u001b[0m\u001b[0;34m[\u001b[0m\u001b[0;36m2\u001b[0m\u001b[0;34m]\u001b[0m\u001b[0;34m\u001b[0m\u001b[0;34m\u001b[0m\u001b[0m\n",
      "\u001b[0;31mKeyError\u001b[0m: 'Alice1'"
     ]
    }
   ],
   "source": [
    "bc.add_transaction(wallets,(\"Alice1\",\"Bob\",5))"
   ]
  },
  {
   "cell_type": "code",
   "execution_count": null,
   "id": "872dcba8",
   "metadata": {},
   "outputs": [],
   "source": []
  }
 ],
 "metadata": {
  "kernelspec": {
   "display_name": "Python 3 (ipykernel)",
   "language": "python",
   "name": "python3"
  },
  "language_info": {
   "codemirror_mode": {
    "name": "ipython",
    "version": 3
   },
   "file_extension": ".py",
   "mimetype": "text/x-python",
   "name": "python",
   "nbconvert_exporter": "python",
   "pygments_lexer": "ipython3",
   "version": "3.9.7"
  }
 },
 "nbformat": 4,
 "nbformat_minor": 5
}
