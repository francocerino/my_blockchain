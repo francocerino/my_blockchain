{
 "cells": [
  {
   "cell_type": "code",
   "execution_count": 1,
   "id": "dcbc97c7",
   "metadata": {},
   "outputs": [],
   "source": [
    "%load_ext autoreload\n",
    "%autoreload 2\n",
    "import functions as f\n",
    "from blockchain import Blockchain\n",
    "from anytree.exporter import DotExporter"
   ]
  },
  {
   "cell_type": "code",
   "execution_count": 2,
   "id": "8bbec351",
   "metadata": {},
   "outputs": [],
   "source": [
    "bc = Blockchain(max_transactions_per_block = 5, pow_difficulty = 3)"
   ]
  },
  {
   "cell_type": "code",
   "execution_count": 3,
   "id": "89610a56",
   "metadata": {},
   "outputs": [],
   "source": [
    "bc.add_account(\"Alice\")\n",
    "bc.add_account(\"Bob\")"
   ]
  },
  {
   "cell_type": "code",
   "execution_count": 4,
   "id": "9898315d",
   "metadata": {},
   "outputs": [
    {
     "name": "stdout",
     "output_type": "stream",
     "text": [
      "{'miner': 100.0}\n"
     ]
    }
   ],
   "source": [
    "bc.wallets_taking_only_mined_blocks()"
   ]
  },
  {
   "cell_type": "code",
   "execution_count": 5,
   "id": "971f9199",
   "metadata": {},
   "outputs": [
    {
     "name": "stdout",
     "output_type": "stream",
     "text": [
      "\n",
      "block  0\n",
      "\n",
      "header:\n",
      "nonce  :  2556\n",
      "block_number  :  0\n",
      "merkle_tree_root_hash  :  c46ca60643d459f7b73c9bf6fde6ae366f8671bb10e4f3228e8edb77df3f7841\n",
      "timestamp  :  1655609875982\n",
      "\n",
      "body:\n",
      "transactions  :  (('miner', 100.0),)\n",
      "merkle_tree  :  Node('/c46ca60643d459f7b73c9bf6fde6ae366f8671bb10e4f3228e8edb77df3f7841')\n",
      "wallets_after_block_transactions  :  {'miner': 100.0}\n",
      "\n",
      " ----------------------------------------------------------------------------------------------------\n",
      "\n",
      "block  1\n",
      "\n",
      "header:\n",
      "nonce  :  0\n",
      "prev_hash  :  00093b1d938f6af714f13b60e7f55be0b14c12f7aa0c368d107ddd0bb4f04a60\n",
      "block_number  :  1\n",
      "\n",
      "body:\n",
      "transactions  :  (('miner', 50.0),)\n",
      "\n",
      " ----------------------------------------------------------------------------------------------------\n"
     ]
    }
   ],
   "source": [
    "bc.show()"
   ]
  },
  {
   "cell_type": "code",
   "execution_count": 6,
   "id": "99a267bd",
   "metadata": {},
   "outputs": [],
   "source": [
    "# tx -> (payer,payee,amount_to_transfer,fee)\n",
    "bc.add_transaction((\"miner\",\"Alice\",10,1))\n",
    "bc.add_transaction((\"miner\",\"Bob\",10,1))"
   ]
  },
  {
   "cell_type": "code",
   "execution_count": 7,
   "id": "19df6b6c",
   "metadata": {},
   "outputs": [],
   "source": [
    "bc.mine_last_block()"
   ]
  },
  {
   "cell_type": "code",
   "execution_count": 8,
   "id": "e42b5d70",
   "metadata": {},
   "outputs": [
    {
     "name": "stdout",
     "output_type": "stream",
     "text": [
      "\n",
      "block  0\n",
      "\n",
      "header:\n",
      "nonce  :  2556\n",
      "block_number  :  0\n",
      "merkle_tree_root_hash  :  c46ca60643d459f7b73c9bf6fde6ae366f8671bb10e4f3228e8edb77df3f7841\n",
      "timestamp  :  1655609875982\n",
      "\n",
      "body:\n",
      "transactions  :  (('miner', 100.0),)\n",
      "merkle_tree  :  Node('/c46ca60643d459f7b73c9bf6fde6ae366f8671bb10e4f3228e8edb77df3f7841')\n",
      "wallets_after_block_transactions  :  {'miner': 100.0}\n",
      "\n",
      " ----------------------------------------------------------------------------------------------------\n",
      "\n",
      "block  1\n",
      "\n",
      "header:\n",
      "nonce  :  946\n",
      "prev_hash  :  00093b1d938f6af714f13b60e7f55be0b14c12f7aa0c368d107ddd0bb4f04a60\n",
      "block_number  :  1\n",
      "merkle_tree_root_hash  :  4bf012f4a859b4da71bbf55ddfc8f4b1fbc01a53b4b379e43bb467a377f9f0c3\n",
      "timestamp  :  1655609881798\n",
      "\n",
      "body:\n",
      "transactions  :  (('miner', 50.0), ('miner', 'Alice', 10), ('miner', 'miner', 1), ('miner', 'Bob', 10), ('miner', 'miner', 1))\n",
      "merkle_tree  :  Node('/4bf012f4a859b4da71bbf55ddfc8f4b1fbc01a53b4b379e43bb467a377f9f0c3')\n",
      "wallets_after_block_transactions  :  {'miner': 130.0, 'Alice': 10, 'Bob': 10}\n",
      "\n",
      " ----------------------------------------------------------------------------------------------------\n",
      "\n",
      "block  2\n",
      "\n",
      "header:\n",
      "nonce  :  0\n",
      "prev_hash  :  0000c6cb17e48cb227426027f87266079b7a025bacce86a28cb80583e10169dc\n",
      "block_number  :  2\n",
      "\n",
      "body:\n",
      "transactions  :  (('miner', 33.333),)\n",
      "\n",
      " ----------------------------------------------------------------------------------------------------\n"
     ]
    }
   ],
   "source": [
    "bc.show()"
   ]
  },
  {
   "cell_type": "code",
   "execution_count": 10,
   "id": "99e67f9c",
   "metadata": {},
   "outputs": [
    {
     "name": "stdout",
     "output_type": "stream",
     "text": [
      "4bf012f4a859b4da71bbf55ddfc8f4b1fbc01a53b4b379e43bb467a377f9f0c3\n",
      "├── 45ec05d1f448ba5241da2402bfcd9b15f47994a45e36ad00f66550297fe2fe6e\n",
      "│   └── d6fce19356c28302e073cfd0214f5e19010224d476360e693f651dfdac976dbb\n",
      "│       └── bb0ee4d3786b6a31864a3dfb1d50a8f2c2f70cadd12c013a80f75c85ee8e28e7\n",
      "│           └── ('miner', 50.0)\n",
      "└── 570490d5aff85d1399e4ccedb2d4fa2a2649e5f521975e5d2614d04b1f18bcc7\n",
      "    ├── c65c087034fb725599502e1c773e14cddc7c3cc73b7d82c38016ed18e2e15e1b\n",
      "    │   ├── b4aabe4d189f69d4ce43528d2db383d0d95edca87fe71c05174a9abfdbcf9333\n",
      "    │   │   └── ('miner', 'Alice', 10)\n",
      "    │   └── 19be4cfe23fb44f0bb679d993561ff582d010775a264d53a59bdf0c42eec785d\n",
      "    │       └── ('miner', 'miner', 1)\n",
      "    └── 386cf0679672f5c569191753bb9fddd4648396b26c625d362caf9830f7422876\n",
      "        ├── 9eb06e876613f878a7bf6d8e03e225fd0c04299ed7fc3da7543c72be913963f0\n",
      "        │   └── ('miner', 'Bob', 10)\n",
      "        └── 19be4cfe23fb44f0bb679d993561ff582d010775a264d53a59bdf0c42eec785d\n",
      "            └── ('miner', 'miner', 1)\n"
     ]
    }
   ],
   "source": [
    "# visualize last mined block\n",
    "bc.visualize_merkle_tree(number_block = -2)"
   ]
  },
  {
   "cell_type": "code",
   "execution_count": 11,
   "id": "4d462e70",
   "metadata": {},
   "outputs": [
    {
     "data": {
      "text/plain": [
       "'00093b1d938f6af714f13b60e7f55be0b14c12f7aa0c368d107ddd0bb4f04a60'"
      ]
     },
     "execution_count": 11,
     "metadata": {},
     "output_type": "execute_result"
    }
   ],
   "source": [
    "f.string_to_hash(str((bc.chain[0][\"header\"])))"
   ]
  },
  {
   "cell_type": "code",
   "execution_count": 12,
   "id": "7e7a2046",
   "metadata": {},
   "outputs": [
    {
     "data": {
      "text/plain": [
       "True"
      ]
     },
     "execution_count": 12,
     "metadata": {},
     "output_type": "execute_result"
    }
   ],
   "source": [
    "idx = 1\n",
    "f.string_to_hash(str((bc.chain[idx][\"header\"]))) == bc.chain[idx+1][\"header\"][\"prev_hash\"]"
   ]
  },
  {
   "cell_type": "code",
   "execution_count": 13,
   "id": "82e44219",
   "metadata": {},
   "outputs": [
    {
     "name": "stdout",
     "output_type": "stream",
     "text": [
      "{'miner': 130.0, 'Alice': 10, 'Bob': 10}\n"
     ]
    }
   ],
   "source": [
    "bc.wallets_taking_only_mined_blocks()"
   ]
  },
  {
   "cell_type": "code",
   "execution_count": 14,
   "id": "8b30d919",
   "metadata": {},
   "outputs": [],
   "source": [
    "bc.add_transaction((\"Bob\",\"Bob\",5,1))"
   ]
  },
  {
   "cell_type": "code",
   "execution_count": 15,
   "id": "9b34c586",
   "metadata": {},
   "outputs": [],
   "source": [
    "bc.mine_last_block()"
   ]
  },
  {
   "cell_type": "code",
   "execution_count": 16,
   "id": "828e669b",
   "metadata": {
    "scrolled": true
   },
   "outputs": [
    {
     "name": "stdout",
     "output_type": "stream",
     "text": [
      "\n",
      "block  0\n",
      "\n",
      "header:\n",
      "nonce  :  2556\n",
      "block_number  :  0\n",
      "merkle_tree_root_hash  :  c46ca60643d459f7b73c9bf6fde6ae366f8671bb10e4f3228e8edb77df3f7841\n",
      "timestamp  :  1655609875982\n",
      "\n",
      "body:\n",
      "transactions  :  (('miner', 100.0),)\n",
      "merkle_tree  :  Node('/c46ca60643d459f7b73c9bf6fde6ae366f8671bb10e4f3228e8edb77df3f7841')\n",
      "wallets_after_block_transactions  :  {'miner': 100.0}\n",
      "\n",
      " ----------------------------------------------------------------------------------------------------\n",
      "\n",
      "block  1\n",
      "\n",
      "header:\n",
      "nonce  :  946\n",
      "prev_hash  :  00093b1d938f6af714f13b60e7f55be0b14c12f7aa0c368d107ddd0bb4f04a60\n",
      "block_number  :  1\n",
      "merkle_tree_root_hash  :  4bf012f4a859b4da71bbf55ddfc8f4b1fbc01a53b4b379e43bb467a377f9f0c3\n",
      "timestamp  :  1655609881798\n",
      "\n",
      "body:\n",
      "transactions  :  (('miner', 50.0), ('miner', 'Alice', 10), ('miner', 'miner', 1), ('miner', 'Bob', 10), ('miner', 'miner', 1))\n",
      "merkle_tree  :  Node('/4bf012f4a859b4da71bbf55ddfc8f4b1fbc01a53b4b379e43bb467a377f9f0c3')\n",
      "wallets_after_block_transactions  :  {'miner': 130.0, 'Alice': 10, 'Bob': 10}\n",
      "\n",
      " ----------------------------------------------------------------------------------------------------\n",
      "\n",
      "block  2\n",
      "\n",
      "header:\n",
      "nonce  :  1624\n",
      "prev_hash  :  0000c6cb17e48cb227426027f87266079b7a025bacce86a28cb80583e10169dc\n",
      "block_number  :  2\n",
      "merkle_tree_root_hash  :  32c07cbdfc7eeb47dd7c94e8d90afade98d39c24dedfa4f11f2137fd6d4cf287\n",
      "timestamp  :  1655609907648\n",
      "\n",
      "body:\n",
      "transactions  :  (('miner', 33.333), ('Bob', 'Bob', 5), ('Bob', 'miner', 1))\n",
      "merkle_tree  :  Node('/32c07cbdfc7eeb47dd7c94e8d90afade98d39c24dedfa4f11f2137fd6d4cf287')\n",
      "wallets_after_block_transactions  :  {'miner': 164.333, 'Alice': 10, 'Bob': 9}\n",
      "\n",
      " ----------------------------------------------------------------------------------------------------\n",
      "\n",
      "block  3\n",
      "\n",
      "header:\n",
      "nonce  :  0\n",
      "prev_hash  :  000b7f365b9929c21168de3fa47cc6a5bf7ea49966c5244e1dfbcf9364e7b440\n",
      "block_number  :  3\n",
      "\n",
      "body:\n",
      "transactions  :  (('miner', 25.0),)\n",
      "\n",
      " ----------------------------------------------------------------------------------------------------\n"
     ]
    }
   ],
   "source": [
    "bc.show()"
   ]
  },
  {
   "cell_type": "code",
   "execution_count": 17,
   "id": "0d092d31",
   "metadata": {},
   "outputs": [
    {
     "name": "stdout",
     "output_type": "stream",
     "text": [
      "32c07cbdfc7eeb47dd7c94e8d90afade98d39c24dedfa4f11f2137fd6d4cf287\n",
      "├── 7921d5246cf35f6bc33376028ea662626a950852573043e674f1744a023ba079\n",
      "│   └── 24ea2234316139760800fc01a2a7e33752238d28c981627aa516e1c7d6cdfc34\n",
      "│       └── ('miner', 33.333)\n",
      "└── 0fa79e6746beb52eb3712714843347597c4cb5ebd71b1e07ca824a6fe1867cd3\n",
      "    ├── 36f3e7f99d5006a15779c4bcff31f0c36915cdf2c800edd8d328fac0646955ad\n",
      "    │   └── ('Bob', 'Bob', 5)\n",
      "    └── e14b314e03bfd95c26374ac8a3837b39322c26e68ab1e72a2157506aabf6acd2\n",
      "        └── ('Bob', 'miner', 1)\n"
     ]
    }
   ],
   "source": [
    "bc.visualize_merkle_tree(number_block = -2)"
   ]
  },
  {
   "cell_type": "code",
   "execution_count": 18,
   "id": "f1731d0e",
   "metadata": {},
   "outputs": [
    {
     "name": "stdout",
     "output_type": "stream",
     "text": [
      "{'miner': 164.333, 'Alice': 10, 'Bob': 9}\n"
     ]
    }
   ],
   "source": [
    "bc.wallets_taking_only_mined_blocks()"
   ]
  },
  {
   "cell_type": "code",
   "execution_count": 19,
   "id": "4abaea39",
   "metadata": {},
   "outputs": [
    {
     "name": "stdout",
     "output_type": "stream",
     "text": [
      "True\n",
      "False\n"
     ]
    }
   ],
   "source": [
    "print(f.block_newer_than(bc.chain[-2],bc.chain[-3]))\n",
    "print(f.block_newer_than(bc.chain[-4],bc.chain[-2]))"
   ]
  },
  {
   "cell_type": "code",
   "execution_count": 20,
   "id": "62be49ec",
   "metadata": {},
   "outputs": [
    {
     "ename": "TypeError",
     "evalue": "add_transaction() takes 2 positional arguments but 3 were given",
     "output_type": "error",
     "traceback": [
      "\u001b[0;31m---------------------------------------------------------------------------\u001b[0m",
      "\u001b[0;31mTypeError\u001b[0m                                 Traceback (most recent call last)",
      "\u001b[0;32m/tmp/ipykernel_49430/1037488316.py\u001b[0m in \u001b[0;36m<module>\u001b[0;34m\u001b[0m\n\u001b[1;32m      1\u001b[0m \u001b[0;31m#error para wallet inexistente\u001b[0m\u001b[0;34m\u001b[0m\u001b[0;34m\u001b[0m\u001b[0m\n\u001b[0;32m----> 2\u001b[0;31m \u001b[0mbc\u001b[0m\u001b[0;34m.\u001b[0m\u001b[0madd_transaction\u001b[0m\u001b[0;34m(\u001b[0m\u001b[0mbc\u001b[0m\u001b[0;34m.\u001b[0m\u001b[0mwallets\u001b[0m\u001b[0;34m,\u001b[0m\u001b[0;34m(\u001b[0m\u001b[0;34m\"Alice1\"\u001b[0m\u001b[0;34m,\u001b[0m\u001b[0;34m\"Bob\"\u001b[0m\u001b[0;34m,\u001b[0m\u001b[0;36m5\u001b[0m\u001b[0;34m)\u001b[0m\u001b[0;34m)\u001b[0m\u001b[0;34m\u001b[0m\u001b[0;34m\u001b[0m\u001b[0m\n\u001b[0m",
      "\u001b[0;31mTypeError\u001b[0m: add_transaction() takes 2 positional arguments but 3 were given"
     ]
    }
   ],
   "source": [
    "#error para wallet inexistente\n",
    "bc.add_transaction(bc.wallets,(\"Alice1\",\"Bob\",5))"
   ]
  }
 ],
 "metadata": {
  "kernelspec": {
   "display_name": "Python 3 (ipykernel)",
   "language": "python",
   "name": "python3"
  },
  "language_info": {
   "codemirror_mode": {
    "name": "ipython",
    "version": 3
   },
   "file_extension": ".py",
   "mimetype": "text/x-python",
   "name": "python",
   "nbconvert_exporter": "python",
   "pygments_lexer": "ipython3",
   "version": "3.9.7"
  }
 },
 "nbformat": 4,
 "nbformat_minor": 5
}
