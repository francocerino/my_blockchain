{
 "cells": [
  {
   "cell_type": "code",
   "execution_count": 58,
   "id": "dcbc97c7",
   "metadata": {},
   "outputs": [
    {
     "name": "stdout",
     "output_type": "stream",
     "text": [
      "The autoreload extension is already loaded. To reload it, use:\n",
      "  %reload_ext autoreload\n"
     ]
    }
   ],
   "source": [
    "%load_ext autoreload\n",
    "%autoreload 2\n",
    "import functions as f\n",
    "from blockchain import Blockchain\n",
    "from anytree.exporter import DotExporter"
   ]
  },
  {
   "cell_type": "code",
   "execution_count": 59,
   "id": "8bbec351",
   "metadata": {},
   "outputs": [],
   "source": [
    "bc = Blockchain(max_transactions_per_block = 5, pow_difficulty = 3)"
   ]
  },
  {
   "cell_type": "code",
   "execution_count": 60,
   "id": "05975dfd",
   "metadata": {},
   "outputs": [],
   "source": [
    "bc.add_account(\"Alice\")\n",
    "bc.add_account(\"Bob\")"
   ]
  },
  {
   "cell_type": "code",
   "execution_count": 61,
   "id": "fe5904f5",
   "metadata": {},
   "outputs": [
    {
     "name": "stdout",
     "output_type": "stream",
     "text": [
      "{'miner': 100.0}\n"
     ]
    }
   ],
   "source": [
    "bc.wallets_taking_only_mined_blocks()"
   ]
  },
  {
   "cell_type": "code",
   "execution_count": 62,
   "id": "004902e6",
   "metadata": {},
   "outputs": [
    {
     "name": "stdout",
     "output_type": "stream",
     "text": [
      "\n",
      "block  0\n",
      "\n",
      "header:\n",
      "nonce  :  3714\n",
      "block_number  :  0\n",
      "merkle_tree_root_hash  :  c46ca60643d459f7b73c9bf6fde6ae366f8671bb10e4f3228e8edb77df3f7841\n",
      "timestamp  :  1655607214422\n",
      "\n",
      "body:\n",
      "transactions  :  (('miner', 100.0),)\n",
      "merkle_tree  :  Node('/c46ca60643d459f7b73c9bf6fde6ae366f8671bb10e4f3228e8edb77df3f7841')\n",
      "wallets_after_block_transactions  :  {'miner': 100.0}\n",
      "\n",
      " ----------------------------------------------------------------------------------------------------\n",
      "\n",
      "block  1\n",
      "\n",
      "header:\n",
      "nonce  :  0\n",
      "prev_hash  :  00045b168fa6a20773a8d2526db9c34016da33cb5e3149013cdb7e2912441755\n",
      "block_number  :  1\n",
      "\n",
      "body:\n",
      "transactions  :  (('miner', 50.0),)\n",
      "\n",
      " ----------------------------------------------------------------------------------------------------\n"
     ]
    }
   ],
   "source": [
    "bc.show()"
   ]
  },
  {
   "cell_type": "code",
   "execution_count": 63,
   "id": "99a267bd",
   "metadata": {},
   "outputs": [],
   "source": [
    "bc.add_transaction(bc.wallets,(\"miner\",\"Alice\",10,1))\n",
    "bc.add_transaction(bc.wallets,(\"miner\",\"Bob\",10,1))"
   ]
  },
  {
   "cell_type": "code",
   "execution_count": 64,
   "id": "19df6b6c",
   "metadata": {},
   "outputs": [],
   "source": [
    "bc.mine_last_block()"
   ]
  },
  {
   "cell_type": "code",
   "execution_count": 65,
   "id": "be9ebb74",
   "metadata": {},
   "outputs": [
    {
     "name": "stdout",
     "output_type": "stream",
     "text": [
      "\n",
      "block  0\n",
      "\n",
      "header:\n",
      "nonce  :  3714\n",
      "block_number  :  0\n",
      "merkle_tree_root_hash  :  c46ca60643d459f7b73c9bf6fde6ae366f8671bb10e4f3228e8edb77df3f7841\n",
      "timestamp  :  1655607214422\n",
      "\n",
      "body:\n",
      "transactions  :  (('miner', 100.0),)\n",
      "merkle_tree  :  Node('/c46ca60643d459f7b73c9bf6fde6ae366f8671bb10e4f3228e8edb77df3f7841')\n",
      "wallets_after_block_transactions  :  {'miner': 100.0}\n",
      "\n",
      " ----------------------------------------------------------------------------------------------------\n",
      "\n",
      "block  1\n",
      "\n",
      "header:\n",
      "nonce  :  676\n",
      "prev_hash  :  00045b168fa6a20773a8d2526db9c34016da33cb5e3149013cdb7e2912441755\n",
      "block_number  :  1\n",
      "merkle_tree_root_hash  :  2128f9cab232b555a09e51a6c032c3bb71733c19b76004d104497930f5ed6bd5\n",
      "timestamp  :  1655607257283\n",
      "\n",
      "body:\n",
      "transactions  :  (('miner', 50.0), ('miner', 'Alice', 10), ('miner', 1), ('miner', 'Bob', 10), ('miner', 1))\n",
      "merkle_tree  :  Node('/2128f9cab232b555a09e51a6c032c3bb71733c19b76004d104497930f5ed6bd5')\n",
      "wallets_after_block_transactions  :  {'miner': 150.0, 'Alice': 10, 'Bob': 10}\n",
      "\n",
      " ----------------------------------------------------------------------------------------------------\n",
      "\n",
      "block  2\n",
      "\n",
      "header:\n",
      "nonce  :  0\n",
      "prev_hash  :  00019de6723c5ae2cace24d355a5d5d480508b129a5160d6e77323d109886513\n",
      "block_number  :  2\n",
      "\n",
      "body:\n",
      "transactions  :  (('miner', 33.333),)\n",
      "\n",
      " ----------------------------------------------------------------------------------------------------\n"
     ]
    }
   ],
   "source": [
    "bc.show()"
   ]
  },
  {
   "cell_type": "code",
   "execution_count": 66,
   "id": "89b9bbc1",
   "metadata": {},
   "outputs": [
    {
     "data": {
      "text/plain": [
       "(Node(\"/2128f9cab232b555a09e51a6c032c3bb71733c19b76004d104497930f5ed6bd5/45ec05d1f448ba5241da2402bfcd9b15f47994a45e36ad00f66550297fe2fe6e/d6fce19356c28302e073cfd0214f5e19010224d476360e693f651dfdac976dbb/bb0ee4d3786b6a31864a3dfb1d50a8f2c2f70cadd12c013a80f75c85ee8e28e7/('miner', 50.0)\"),\n",
       " Node(\"/2128f9cab232b555a09e51a6c032c3bb71733c19b76004d104497930f5ed6bd5/fa772879a5dd6cf4b3a9b74119a4220793e46cc16f547310e0797a53341f182c/1c17bea8cc09e5c3acf34440e257fb608582a6b3f956a25780bfc7f1ec4534e9/b4aabe4d189f69d4ce43528d2db383d0d95edca87fe71c05174a9abfdbcf9333/('miner', 'Alice', 10)\"),\n",
       " Node(\"/2128f9cab232b555a09e51a6c032c3bb71733c19b76004d104497930f5ed6bd5/fa772879a5dd6cf4b3a9b74119a4220793e46cc16f547310e0797a53341f182c/1c17bea8cc09e5c3acf34440e257fb608582a6b3f956a25780bfc7f1ec4534e9/caa1e613eb41ad2527753a45caaece4fea1b380b045239df94ab8aef3982d8a1/('miner', 1)\"),\n",
       " Node(\"/2128f9cab232b555a09e51a6c032c3bb71733c19b76004d104497930f5ed6bd5/fa772879a5dd6cf4b3a9b74119a4220793e46cc16f547310e0797a53341f182c/9795ce969b8417dc37573268334f0ffc777bb3ff5a48402333a4221a89cbd176/9eb06e876613f878a7bf6d8e03e225fd0c04299ed7fc3da7543c72be913963f0/('miner', 'Bob', 10)\"),\n",
       " Node(\"/2128f9cab232b555a09e51a6c032c3bb71733c19b76004d104497930f5ed6bd5/fa772879a5dd6cf4b3a9b74119a4220793e46cc16f547310e0797a53341f182c/9795ce969b8417dc37573268334f0ffc777bb3ff5a48402333a4221a89cbd176/caa1e613eb41ad2527753a45caaece4fea1b380b045239df94ab8aef3982d8a1/('miner', 1)\"))"
      ]
     },
     "execution_count": 66,
     "metadata": {},
     "output_type": "execute_result"
    }
   ],
   "source": [
    "bc.chain[-2][\"body\"][\"merkle_tree\"].leaves"
   ]
  },
  {
   "cell_type": "code",
   "execution_count": 67,
   "id": "837ec647",
   "metadata": {},
   "outputs": [
    {
     "data": {
      "text/plain": [
       "'00045b168fa6a20773a8d2526db9c34016da33cb5e3149013cdb7e2912441755'"
      ]
     },
     "execution_count": 67,
     "metadata": {},
     "output_type": "execute_result"
    }
   ],
   "source": [
    "f.string_to_hash(str((bc.chain[0][\"header\"])))"
   ]
  },
  {
   "cell_type": "code",
   "execution_count": 68,
   "id": "7e7a2046",
   "metadata": {},
   "outputs": [
    {
     "data": {
      "text/plain": [
       "True"
      ]
     },
     "execution_count": 68,
     "metadata": {},
     "output_type": "execute_result"
    }
   ],
   "source": [
    "idx = 1\n",
    "f.string_to_hash(str((bc.chain[idx][\"header\"]))) == bc.chain[idx+1][\"header\"][\"prev_hash\"]"
   ]
  },
  {
   "cell_type": "code",
   "execution_count": 34,
   "id": "747587c0",
   "metadata": {},
   "outputs": [
    {
     "name": "stdout",
     "output_type": "stream",
     "text": [
      "{'miner': 130.0, 'Alice': 10, 'Bob': 10}\n"
     ]
    }
   ],
   "source": [
    "bc.wallets_taking_only_mined_blocks()"
   ]
  },
  {
   "cell_type": "code",
   "execution_count": 35,
   "id": "8b30d919",
   "metadata": {},
   "outputs": [],
   "source": [
    "bc.add_transaction(bc.wallets,(\"Bob\",\"Bob\",5))"
   ]
  },
  {
   "cell_type": "code",
   "execution_count": 36,
   "id": "9b34c586",
   "metadata": {},
   "outputs": [],
   "source": [
    "bc.mine_last_block()"
   ]
  },
  {
   "cell_type": "code",
   "execution_count": 37,
   "id": "828e669b",
   "metadata": {
    "scrolled": true
   },
   "outputs": [
    {
     "name": "stdout",
     "output_type": "stream",
     "text": [
      "\n",
      "block  0\n",
      "\n",
      "header:\n",
      "nonce  :  8788\n",
      "block_number  :  0\n",
      "merkle_tree_root_hash  :  c46ca60643d459f7b73c9bf6fde6ae366f8671bb10e4f3228e8edb77df3f7841\n",
      "timestamp  :  1655606376908\n",
      "\n",
      "body:\n",
      "transactions  :  (('miner', 100.0),)\n",
      "merkle_tree  :  Node('/c46ca60643d459f7b73c9bf6fde6ae366f8671bb10e4f3228e8edb77df3f7841')\n",
      "wallets_after_block_transactions  :  {'miner': 100.0}\n",
      "\n",
      " ----------------------------------------------------------------------------------------------------\n",
      "\n",
      "block  1\n",
      "\n",
      "header:\n",
      "nonce  :  14032\n",
      "prev_hash  :  0006237b25ff00af923855334f1c77568737a1f2ac5acc638d394de32b60dd65\n",
      "block_number  :  1\n",
      "merkle_tree_root_hash  :  a5b6b2add7fe697adefb62180d784016b64d28e6ebc3e6c6d3277fa0861b5e9f\n",
      "timestamp  :  1655606397492\n",
      "\n",
      "body:\n",
      "transactions  :  (('miner', 50.0), ('miner', 'Alice', 10), ('miner', 'Bob', 10))\n",
      "merkle_tree  :  Node('/a5b6b2add7fe697adefb62180d784016b64d28e6ebc3e6c6d3277fa0861b5e9f')\n",
      "wallets_after_block_transactions  :  {'miner': 130.0, 'Alice': 10, 'Bob': 10}\n",
      "\n",
      " ----------------------------------------------------------------------------------------------------\n",
      "\n",
      "block  2\n",
      "\n",
      "header:\n",
      "nonce  :  7250\n",
      "prev_hash  :  00027c3747fbb3fc3fa049193dd5da60bf97c03583a177cb945a0e14e7df2f20\n",
      "block_number  :  2\n",
      "merkle_tree_root_hash  :  5e8d22a19ec94b2aaee6603a3cf1d753dce631928aac6343dc3fe1911a4b93c3\n",
      "timestamp  :  1655606452923\n",
      "\n",
      "body:\n",
      "transactions  :  (('miner', 33.333), ('Bob', 'Bob', 5))\n",
      "merkle_tree  :  Node('/5e8d22a19ec94b2aaee6603a3cf1d753dce631928aac6343dc3fe1911a4b93c3')\n",
      "wallets_after_block_transactions  :  {'miner': 163.333, 'Alice': 10, 'Bob': 10}\n",
      "\n",
      " ----------------------------------------------------------------------------------------------------\n",
      "\n",
      "block  3\n",
      "\n",
      "header:\n",
      "nonce  :  0\n",
      "prev_hash  :  000c745baafa3e770e6e7995da95448c044e8bbc05c534d5d44fda6ef6607098\n",
      "block_number  :  3\n",
      "\n",
      "body:\n",
      "transactions  :  (('miner', 25.0),)\n",
      "\n",
      " ----------------------------------------------------------------------------------------------------\n"
     ]
    }
   ],
   "source": [
    "bc.show()"
   ]
  },
  {
   "cell_type": "code",
   "execution_count": 38,
   "id": "375df44f",
   "metadata": {},
   "outputs": [
    {
     "name": "stdout",
     "output_type": "stream",
     "text": [
      "{'miner': 163.333, 'Alice': 10, 'Bob': 10}\n"
     ]
    }
   ],
   "source": [
    "bc.wallets_taking_only_mined_blocks()"
   ]
  },
  {
   "cell_type": "code",
   "execution_count": 18,
   "id": "bf2336ab",
   "metadata": {},
   "outputs": [],
   "source": [
    "merkle_tree = bc.chain[-3][\"body\"][\"merkle_tree\"]\n",
    "\n",
    "DotExporter(merkle_tree).to_picture(\"merkle_tree.png\")"
   ]
  },
  {
   "cell_type": "code",
   "execution_count": 39,
   "id": "4abaea39",
   "metadata": {},
   "outputs": [
    {
     "name": "stdout",
     "output_type": "stream",
     "text": [
      "True\n",
      "False\n"
     ]
    }
   ],
   "source": [
    "print(f.block_newer_than(bc.chain[-2],bc.chain[-3]))\n",
    "print(f.block_newer_than(bc.chain[-4],bc.chain[-2]))"
   ]
  },
  {
   "cell_type": "code",
   "execution_count": 23,
   "id": "62be49ec",
   "metadata": {},
   "outputs": [
    {
     "ename": "KeyError",
     "evalue": "'Alice1'",
     "output_type": "error",
     "traceback": [
      "\u001b[0;31m---------------------------------------------------------------------------\u001b[0m",
      "\u001b[0;31mKeyError\u001b[0m                                  Traceback (most recent call last)",
      "\u001b[0;32m/tmp/ipykernel_43296/1037488316.py\u001b[0m in \u001b[0;36m<module>\u001b[0;34m\u001b[0m\n\u001b[1;32m      1\u001b[0m \u001b[0;31m#error para wallet inexistente\u001b[0m\u001b[0;34m\u001b[0m\u001b[0;34m\u001b[0m\u001b[0m\n\u001b[0;32m----> 2\u001b[0;31m \u001b[0mbc\u001b[0m\u001b[0;34m.\u001b[0m\u001b[0madd_transaction\u001b[0m\u001b[0;34m(\u001b[0m\u001b[0mbc\u001b[0m\u001b[0;34m.\u001b[0m\u001b[0mwallets\u001b[0m\u001b[0;34m,\u001b[0m\u001b[0;34m(\u001b[0m\u001b[0;34m\"Alice1\"\u001b[0m\u001b[0;34m,\u001b[0m\u001b[0;34m\"Bob\"\u001b[0m\u001b[0;34m,\u001b[0m\u001b[0;36m5\u001b[0m\u001b[0;34m)\u001b[0m\u001b[0;34m)\u001b[0m\u001b[0;34m\u001b[0m\u001b[0;34m\u001b[0m\u001b[0m\n\u001b[0m",
      "\u001b[0;32m~/Documents/my_blockchain/my_blockchain/blockchain.py\u001b[0m in \u001b[0;36madd_transaction\u001b[0;34m(self, wallets, transaction)\u001b[0m\n\u001b[1;32m     20\u001b[0m         \u001b[0mnumber_actual_transactions\u001b[0m \u001b[0;34m=\u001b[0m \u001b[0mlen\u001b[0m\u001b[0;34m(\u001b[0m\u001b[0mself\u001b[0m\u001b[0;34m.\u001b[0m\u001b[0mchain\u001b[0m\u001b[0;34m[\u001b[0m\u001b[0;34m-\u001b[0m\u001b[0;36m1\u001b[0m\u001b[0;34m]\u001b[0m\u001b[0;34m[\u001b[0m\u001b[0;34m\"body\"\u001b[0m\u001b[0;34m]\u001b[0m\u001b[0;34m[\u001b[0m\u001b[0;34m\"transactions\"\u001b[0m\u001b[0;34m]\u001b[0m\u001b[0;34m)\u001b[0m\u001b[0;34m\u001b[0m\u001b[0;34m\u001b[0m\u001b[0m\n\u001b[1;32m     21\u001b[0m         \u001b[0;32mif\u001b[0m \u001b[0mnumber_actual_transactions\u001b[0m \u001b[0;34m<\u001b[0m \u001b[0mself\u001b[0m\u001b[0;34m.\u001b[0m\u001b[0mmax_transactions_per_block\u001b[0m\u001b[0;34m:\u001b[0m\u001b[0;34m\u001b[0m\u001b[0;34m\u001b[0m\u001b[0m\n\u001b[0;32m---> 22\u001b[0;31m             \u001b[0;32massert\u001b[0m \u001b[0mwallets\u001b[0m\u001b[0;34m[\u001b[0m\u001b[0mtransaction\u001b[0m\u001b[0;34m[\u001b[0m\u001b[0;36m0\u001b[0m\u001b[0;34m]\u001b[0m\u001b[0;34m]\u001b[0m \u001b[0;34m-\u001b[0m \u001b[0mtransaction\u001b[0m\u001b[0;34m[\u001b[0m\u001b[0;36m2\u001b[0m\u001b[0;34m]\u001b[0m \u001b[0;34m>=\u001b[0m \u001b[0;36m0\u001b[0m\u001b[0;34m\u001b[0m\u001b[0;34m\u001b[0m\u001b[0m\n\u001b[0m\u001b[1;32m     23\u001b[0m             \u001b[0mwallets\u001b[0m\u001b[0;34m[\u001b[0m\u001b[0mtransaction\u001b[0m\u001b[0;34m[\u001b[0m\u001b[0;36m0\u001b[0m\u001b[0;34m]\u001b[0m\u001b[0;34m]\u001b[0m \u001b[0;34m-=\u001b[0m \u001b[0mtransaction\u001b[0m\u001b[0;34m[\u001b[0m\u001b[0;36m2\u001b[0m\u001b[0;34m]\u001b[0m\u001b[0;34m\u001b[0m\u001b[0;34m\u001b[0m\u001b[0m\n\u001b[1;32m     24\u001b[0m             \u001b[0mwallets\u001b[0m\u001b[0;34m[\u001b[0m\u001b[0mtransaction\u001b[0m\u001b[0;34m[\u001b[0m\u001b[0;36m1\u001b[0m\u001b[0;34m]\u001b[0m\u001b[0;34m]\u001b[0m \u001b[0;34m+=\u001b[0m \u001b[0mtransaction\u001b[0m\u001b[0;34m[\u001b[0m\u001b[0;36m2\u001b[0m\u001b[0;34m]\u001b[0m\u001b[0;34m\u001b[0m\u001b[0;34m\u001b[0m\u001b[0m\n",
      "\u001b[0;31mKeyError\u001b[0m: 'Alice1'"
     ]
    }
   ],
   "source": [
    "#error para wallet inexistente\n",
    "bc.add_transaction(bc.wallets,(\"Alice1\",\"Bob\",5))"
   ]
  }
 ],
 "metadata": {
  "kernelspec": {
   "display_name": "Python 3 (ipykernel)",
   "language": "python",
   "name": "python3"
  },
  "language_info": {
   "codemirror_mode": {
    "name": "ipython",
    "version": 3
   },
   "file_extension": ".py",
   "mimetype": "text/x-python",
   "name": "python",
   "nbconvert_exporter": "python",
   "pygments_lexer": "ipython3",
   "version": "3.9.7"
  }
 },
 "nbformat": 4,
 "nbformat_minor": 5
}
