{
 "cells": [
  {
   "cell_type": "code",
   "execution_count": 1,
   "id": "dcbc97c7",
   "metadata": {},
   "outputs": [],
   "source": [
    "%load_ext autoreload\n",
    "%autoreload 2\n",
    "import functions as f\n",
    "from blockchain import Blockchain\n",
    "from anytree.exporter import DotExporter"
   ]
  },
  {
   "cell_type": "code",
   "execution_count": 2,
   "id": "8bbec351",
   "metadata": {},
   "outputs": [],
   "source": [
    "bc = Blockchain(max_transactions_per_block = 5, pow_difficulty = 3)"
   ]
  },
  {
   "cell_type": "code",
   "execution_count": 3,
   "id": "e1511945",
   "metadata": {},
   "outputs": [],
   "source": [
    "bc.add_account(\"Alice\")\n",
    "bc.add_account(\"Bob\")"
   ]
  },
  {
   "cell_type": "code",
   "execution_count": 4,
   "id": "d91cf297",
   "metadata": {},
   "outputs": [
    {
     "data": {
      "text/plain": [
       "{'miner': 150.0, 'Alice': 0, 'Bob': 0}"
      ]
     },
     "execution_count": 4,
     "metadata": {},
     "output_type": "execute_result"
    }
   ],
   "source": [
    "bc.wallets"
   ]
  },
  {
   "cell_type": "code",
   "execution_count": 5,
   "id": "17162a71",
   "metadata": {},
   "outputs": [
    {
     "name": "stdout",
     "output_type": "stream",
     "text": [
      "\n",
      "block  0\n",
      "\n",
      "header:\n",
      "nonce  :  45\n",
      "block_number  :  0\n",
      "merkle_tree_root_hash  :  c46ca60643d459f7b73c9bf6fde6ae366f8671bb10e4f3228e8edb77df3f7841\n",
      "timestamp  :  1655589607788\n",
      "\n",
      "body:\n",
      "transactions  :  (('miner', 100.0),)\n",
      "merkle_tree  :  Node('/c46ca60643d459f7b73c9bf6fde6ae366f8671bb10e4f3228e8edb77df3f7841')\n",
      "wallets_after_block_transactions  :  {'miner': 100.0}\n",
      "\n",
      " ----------------------------------------------------------------------------------------------------\n",
      "\n",
      "block  1\n",
      "\n",
      "header:\n",
      "nonce  :  0\n",
      "prev_hash  :  0004831cf31fd559c565568af840ab91b86cb9524b80afb3e99353af90059763\n",
      "block_number  :  1\n",
      "\n",
      "body:\n",
      "transactions  :  (('miner', 50.0),)\n",
      "\n",
      " ----------------------------------------------------------------------------------------------------\n"
     ]
    }
   ],
   "source": [
    "bc.show()"
   ]
  },
  {
   "cell_type": "code",
   "execution_count": 6,
   "id": "99a267bd",
   "metadata": {},
   "outputs": [],
   "source": [
    "bc.add_transaction(bc.wallets,(\"miner\",\"Alice\",10))\n",
    "bc.add_transaction(bc.wallets,(\"miner\",\"Bob\",10))"
   ]
  },
  {
   "cell_type": "code",
   "execution_count": 7,
   "id": "19df6b6c",
   "metadata": {},
   "outputs": [],
   "source": [
    "bc.mine_last_block()"
   ]
  },
  {
   "cell_type": "code",
   "execution_count": 8,
   "id": "200b4cfa",
   "metadata": {},
   "outputs": [
    {
     "name": "stdout",
     "output_type": "stream",
     "text": [
      "\n",
      "block  0\n",
      "\n",
      "header:\n",
      "nonce  :  45\n",
      "block_number  :  0\n",
      "merkle_tree_root_hash  :  c46ca60643d459f7b73c9bf6fde6ae366f8671bb10e4f3228e8edb77df3f7841\n",
      "timestamp  :  1655589607788\n",
      "\n",
      "body:\n",
      "transactions  :  (('miner', 100.0),)\n",
      "merkle_tree  :  Node('/c46ca60643d459f7b73c9bf6fde6ae366f8671bb10e4f3228e8edb77df3f7841')\n",
      "wallets_after_block_transactions  :  {'miner': 100.0}\n",
      "\n",
      " ----------------------------------------------------------------------------------------------------\n",
      "\n",
      "block  1\n",
      "\n",
      "header:\n",
      "nonce  :  5121\n",
      "prev_hash  :  0004831cf31fd559c565568af840ab91b86cb9524b80afb3e99353af90059763\n",
      "block_number  :  1\n",
      "merkle_tree_root_hash  :  a5b6b2add7fe697adefb62180d784016b64d28e6ebc3e6c6d3277fa0861b5e9f\n",
      "timestamp  :  1655589612886\n",
      "\n",
      "body:\n",
      "transactions  :  (('miner', 50.0), ('miner', 'Alice', 10), ('miner', 'Bob', 10))\n",
      "merkle_tree  :  Node('/a5b6b2add7fe697adefb62180d784016b64d28e6ebc3e6c6d3277fa0861b5e9f')\n",
      "wallets_after_block_transactions  :  {'miner': 130.0, 'Alice': 10, 'Bob': 10}\n",
      "\n",
      " ----------------------------------------------------------------------------------------------------\n",
      "\n",
      "block  2\n",
      "\n",
      "header:\n",
      "nonce  :  0\n",
      "prev_hash  :  000cbbe8438dc6999668e0cb3b8e5585fb0f18ee85a157bdb21305ef799f1846\n",
      "block_number  :  2\n",
      "\n",
      "body:\n",
      "transactions  :  (('miner', 33.333),)\n",
      "\n",
      " ----------------------------------------------------------------------------------------------------\n"
     ]
    }
   ],
   "source": [
    "bc.show()"
   ]
  },
  {
   "cell_type": "code",
   "execution_count": 9,
   "id": "09f9a73e",
   "metadata": {},
   "outputs": [
    {
     "data": {
      "text/plain": [
       "(Node(\"/a5b6b2add7fe697adefb62180d784016b64d28e6ebc3e6c6d3277fa0861b5e9f/d6fce19356c28302e073cfd0214f5e19010224d476360e693f651dfdac976dbb/bb0ee4d3786b6a31864a3dfb1d50a8f2c2f70cadd12c013a80f75c85ee8e28e7/('miner', 50.0)\"),\n",
       " Node(\"/a5b6b2add7fe697adefb62180d784016b64d28e6ebc3e6c6d3277fa0861b5e9f/826035c725a6555b74c6f35f85012af4bbf5bad82d12326f79362fba446f08ae/b4aabe4d189f69d4ce43528d2db383d0d95edca87fe71c05174a9abfdbcf9333/('miner', 'Alice', 10)\"),\n",
       " Node(\"/a5b6b2add7fe697adefb62180d784016b64d28e6ebc3e6c6d3277fa0861b5e9f/826035c725a6555b74c6f35f85012af4bbf5bad82d12326f79362fba446f08ae/9eb06e876613f878a7bf6d8e03e225fd0c04299ed7fc3da7543c72be913963f0/('miner', 'Bob', 10)\"))"
      ]
     },
     "execution_count": 9,
     "metadata": {},
     "output_type": "execute_result"
    }
   ],
   "source": [
    "bc.chain[-2][\"body\"][\"merkle_tree\"].leaves"
   ]
  },
  {
   "cell_type": "code",
   "execution_count": 10,
   "id": "a0f88fa0",
   "metadata": {},
   "outputs": [
    {
     "data": {
      "text/plain": [
       "'0004831cf31fd559c565568af840ab91b86cb9524b80afb3e99353af90059763'"
      ]
     },
     "execution_count": 10,
     "metadata": {},
     "output_type": "execute_result"
    }
   ],
   "source": [
    "f.string_to_hash(str((bc.chain[0][\"header\"])))"
   ]
  },
  {
   "cell_type": "code",
   "execution_count": 11,
   "id": "7e7a2046",
   "metadata": {},
   "outputs": [
    {
     "data": {
      "text/plain": [
       "True"
      ]
     },
     "execution_count": 11,
     "metadata": {},
     "output_type": "execute_result"
    }
   ],
   "source": [
    "f.string_to_hash(str((bc.chain[1][\"header\"]))) == bc.chain[2][\"header\"][\"prev_hash\"]"
   ]
  },
  {
   "cell_type": "code",
   "execution_count": 12,
   "id": "93357f18",
   "metadata": {},
   "outputs": [
    {
     "name": "stdout",
     "output_type": "stream",
     "text": [
      "{'miner': 130.0, 'Alice': 10, 'Bob': 10}\n"
     ]
    }
   ],
   "source": [
    "bc.wallets_taking_only_mined_blocks()"
   ]
  },
  {
   "cell_type": "code",
   "execution_count": 13,
   "id": "8b30d919",
   "metadata": {},
   "outputs": [],
   "source": [
    "bc.add_transaction(bc.wallets,(\"Bob\",\"Bob\",5))"
   ]
  },
  {
   "cell_type": "code",
   "execution_count": 14,
   "id": "9b34c586",
   "metadata": {},
   "outputs": [],
   "source": [
    "bc.mine_last_block()"
   ]
  },
  {
   "cell_type": "code",
   "execution_count": 16,
   "id": "828e669b",
   "metadata": {
    "scrolled": true
   },
   "outputs": [
    {
     "name": "stdout",
     "output_type": "stream",
     "text": [
      "\n",
      "block  0\n",
      "\n",
      "header:\n",
      "nonce  :  45\n",
      "block_number  :  0\n",
      "merkle_tree_root_hash  :  c46ca60643d459f7b73c9bf6fde6ae366f8671bb10e4f3228e8edb77df3f7841\n",
      "timestamp  :  1655589607788\n",
      "\n",
      "body:\n",
      "transactions  :  (('miner', 100.0),)\n",
      "merkle_tree  :  Node('/c46ca60643d459f7b73c9bf6fde6ae366f8671bb10e4f3228e8edb77df3f7841')\n",
      "wallets_after_block_transactions  :  {'miner': 100.0}\n",
      "\n",
      " ----------------------------------------------------------------------------------------------------\n",
      "\n",
      "block  1\n",
      "\n",
      "header:\n",
      "nonce  :  5121\n",
      "prev_hash  :  0004831cf31fd559c565568af840ab91b86cb9524b80afb3e99353af90059763\n",
      "block_number  :  1\n",
      "merkle_tree_root_hash  :  a5b6b2add7fe697adefb62180d784016b64d28e6ebc3e6c6d3277fa0861b5e9f\n",
      "timestamp  :  1655589612886\n",
      "\n",
      "body:\n",
      "transactions  :  (('miner', 50.0), ('miner', 'Alice', 10), ('miner', 'Bob', 10))\n",
      "merkle_tree  :  Node('/a5b6b2add7fe697adefb62180d784016b64d28e6ebc3e6c6d3277fa0861b5e9f')\n",
      "wallets_after_block_transactions  :  {'miner': 130.0, 'Alice': 10, 'Bob': 10}\n",
      "\n",
      " ----------------------------------------------------------------------------------------------------\n",
      "\n",
      "block  2\n",
      "\n",
      "header:\n",
      "nonce  :  711\n",
      "prev_hash  :  000cbbe8438dc6999668e0cb3b8e5585fb0f18ee85a157bdb21305ef799f1846\n",
      "block_number  :  2\n",
      "merkle_tree_root_hash  :  5e8d22a19ec94b2aaee6603a3cf1d753dce631928aac6343dc3fe1911a4b93c3\n",
      "timestamp  :  1655589650374\n",
      "\n",
      "body:\n",
      "transactions  :  (('miner', 33.333), ('Bob', 'Bob', 5))\n",
      "merkle_tree  :  Node('/5e8d22a19ec94b2aaee6603a3cf1d753dce631928aac6343dc3fe1911a4b93c3')\n",
      "wallets_after_block_transactions  :  {'miner': 163.333, 'Alice': 10, 'Bob': 10}\n",
      "\n",
      " ----------------------------------------------------------------------------------------------------\n",
      "\n",
      "block  3\n",
      "\n",
      "header:\n",
      "nonce  :  0\n",
      "prev_hash  :  000e976b87f998337740ba398c45425dd12dc117ff1d07d90f2d58d8ea198351\n",
      "block_number  :  3\n",
      "\n",
      "body:\n",
      "transactions  :  (('miner', 25.0),)\n",
      "\n",
      " ----------------------------------------------------------------------------------------------------\n"
     ]
    }
   ],
   "source": [
    "bc.show()"
   ]
  },
  {
   "cell_type": "code",
   "execution_count": 17,
   "id": "8fa5f0a7",
   "metadata": {},
   "outputs": [
    {
     "name": "stdout",
     "output_type": "stream",
     "text": [
      "{'miner': 163.333, 'Alice': 10, 'Bob': 10}\n"
     ]
    }
   ],
   "source": [
    "bc.wallets_taking_only_mined_blocks()"
   ]
  },
  {
   "cell_type": "code",
   "execution_count": 18,
   "id": "bf2336ab",
   "metadata": {},
   "outputs": [],
   "source": [
    "merkle_tree = bc.chain[-3][\"body\"][\"merkle_tree\"]\n",
    "\n",
    "DotExporter(merkle_tree).to_picture(\"merkle_tree.png\")"
   ]
  },
  {
   "cell_type": "code",
   "execution_count": 20,
   "id": "4abaea39",
   "metadata": {},
   "outputs": [
    {
     "name": "stdout",
     "output_type": "stream",
     "text": [
      "True\n",
      "False\n"
     ]
    }
   ],
   "source": [
    "def block_newer_than(block1,block2):\n",
    "    return block1[\"header\"][\"timestamp\"] > block2[\"header\"][\"timestamp\"]\n",
    "\n",
    "print(block_newer_than(bc.chain[-2],bc.chain[-3]))\n",
    "print(block_newer_than(bc.chain[-4],bc.chain[-2]))"
   ]
  },
  {
   "cell_type": "code",
   "execution_count": 23,
   "id": "62be49ec",
   "metadata": {},
   "outputs": [
    {
     "ename": "KeyError",
     "evalue": "'Alice1'",
     "output_type": "error",
     "traceback": [
      "\u001b[0;31m---------------------------------------------------------------------------\u001b[0m",
      "\u001b[0;31mKeyError\u001b[0m                                  Traceback (most recent call last)",
      "\u001b[0;32m/tmp/ipykernel_43296/1037488316.py\u001b[0m in \u001b[0;36m<module>\u001b[0;34m\u001b[0m\n\u001b[1;32m      1\u001b[0m \u001b[0;31m#error para wallet inexistente\u001b[0m\u001b[0;34m\u001b[0m\u001b[0;34m\u001b[0m\u001b[0m\n\u001b[0;32m----> 2\u001b[0;31m \u001b[0mbc\u001b[0m\u001b[0;34m.\u001b[0m\u001b[0madd_transaction\u001b[0m\u001b[0;34m(\u001b[0m\u001b[0mbc\u001b[0m\u001b[0;34m.\u001b[0m\u001b[0mwallets\u001b[0m\u001b[0;34m,\u001b[0m\u001b[0;34m(\u001b[0m\u001b[0;34m\"Alice1\"\u001b[0m\u001b[0;34m,\u001b[0m\u001b[0;34m\"Bob\"\u001b[0m\u001b[0;34m,\u001b[0m\u001b[0;36m5\u001b[0m\u001b[0;34m)\u001b[0m\u001b[0;34m)\u001b[0m\u001b[0;34m\u001b[0m\u001b[0;34m\u001b[0m\u001b[0m\n\u001b[0m",
      "\u001b[0;32m~/Documents/my_blockchain/my_blockchain/blockchain.py\u001b[0m in \u001b[0;36madd_transaction\u001b[0;34m(self, wallets, transaction)\u001b[0m\n\u001b[1;32m     20\u001b[0m         \u001b[0mnumber_actual_transactions\u001b[0m \u001b[0;34m=\u001b[0m \u001b[0mlen\u001b[0m\u001b[0;34m(\u001b[0m\u001b[0mself\u001b[0m\u001b[0;34m.\u001b[0m\u001b[0mchain\u001b[0m\u001b[0;34m[\u001b[0m\u001b[0;34m-\u001b[0m\u001b[0;36m1\u001b[0m\u001b[0;34m]\u001b[0m\u001b[0;34m[\u001b[0m\u001b[0;34m\"body\"\u001b[0m\u001b[0;34m]\u001b[0m\u001b[0;34m[\u001b[0m\u001b[0;34m\"transactions\"\u001b[0m\u001b[0;34m]\u001b[0m\u001b[0;34m)\u001b[0m\u001b[0;34m\u001b[0m\u001b[0;34m\u001b[0m\u001b[0m\n\u001b[1;32m     21\u001b[0m         \u001b[0;32mif\u001b[0m \u001b[0mnumber_actual_transactions\u001b[0m \u001b[0;34m<\u001b[0m \u001b[0mself\u001b[0m\u001b[0;34m.\u001b[0m\u001b[0mmax_transactions_per_block\u001b[0m\u001b[0;34m:\u001b[0m\u001b[0;34m\u001b[0m\u001b[0;34m\u001b[0m\u001b[0m\n\u001b[0;32m---> 22\u001b[0;31m             \u001b[0;32massert\u001b[0m \u001b[0mwallets\u001b[0m\u001b[0;34m[\u001b[0m\u001b[0mtransaction\u001b[0m\u001b[0;34m[\u001b[0m\u001b[0;36m0\u001b[0m\u001b[0;34m]\u001b[0m\u001b[0;34m]\u001b[0m \u001b[0;34m-\u001b[0m \u001b[0mtransaction\u001b[0m\u001b[0;34m[\u001b[0m\u001b[0;36m2\u001b[0m\u001b[0;34m]\u001b[0m \u001b[0;34m>=\u001b[0m \u001b[0;36m0\u001b[0m\u001b[0;34m\u001b[0m\u001b[0;34m\u001b[0m\u001b[0m\n\u001b[0m\u001b[1;32m     23\u001b[0m             \u001b[0mwallets\u001b[0m\u001b[0;34m[\u001b[0m\u001b[0mtransaction\u001b[0m\u001b[0;34m[\u001b[0m\u001b[0;36m0\u001b[0m\u001b[0;34m]\u001b[0m\u001b[0;34m]\u001b[0m \u001b[0;34m-=\u001b[0m \u001b[0mtransaction\u001b[0m\u001b[0;34m[\u001b[0m\u001b[0;36m2\u001b[0m\u001b[0;34m]\u001b[0m\u001b[0;34m\u001b[0m\u001b[0;34m\u001b[0m\u001b[0m\n\u001b[1;32m     24\u001b[0m             \u001b[0mwallets\u001b[0m\u001b[0;34m[\u001b[0m\u001b[0mtransaction\u001b[0m\u001b[0;34m[\u001b[0m\u001b[0;36m1\u001b[0m\u001b[0;34m]\u001b[0m\u001b[0;34m]\u001b[0m \u001b[0;34m+=\u001b[0m \u001b[0mtransaction\u001b[0m\u001b[0;34m[\u001b[0m\u001b[0;36m2\u001b[0m\u001b[0;34m]\u001b[0m\u001b[0;34m\u001b[0m\u001b[0;34m\u001b[0m\u001b[0m\n",
      "\u001b[0;31mKeyError\u001b[0m: 'Alice1'"
     ]
    }
   ],
   "source": [
    "#error para wallet inexistente\n",
    "bc.add_transaction(bc.wallets,(\"Alice1\",\"Bob\",5))"
   ]
  }
 ],
 "metadata": {
  "kernelspec": {
   "display_name": "Python 3 (ipykernel)",
   "language": "python",
   "name": "python3"
  },
  "language_info": {
   "codemirror_mode": {
    "name": "ipython",
    "version": 3
   },
   "file_extension": ".py",
   "mimetype": "text/x-python",
   "name": "python",
   "nbconvert_exporter": "python",
   "pygments_lexer": "ipython3",
   "version": "3.9.7"
  }
 },
 "nbformat": 4,
 "nbformat_minor": 5
}
