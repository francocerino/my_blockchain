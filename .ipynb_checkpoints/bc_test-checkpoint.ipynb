{
 "cells": [
  {
   "cell_type": "code",
   "execution_count": 103,
   "id": "dcbc97c7",
   "metadata": {},
   "outputs": [
    {
     "name": "stdout",
     "output_type": "stream",
     "text": [
      "The autoreload extension is already loaded. To reload it, use:\n",
      "  %reload_ext autoreload\n"
     ]
    }
   ],
   "source": [
    "%load_ext autoreload\n",
    "%autoreload 2\n",
    "import functions as f\n",
    "from blockchain import Blockchain\n",
    "from anytree.exporter import DotExporter"
   ]
  },
  {
   "cell_type": "code",
   "execution_count": 104,
   "id": "8bbec351",
   "metadata": {},
   "outputs": [],
   "source": [
    "bc = Blockchain(max_transactions_per_block = 5, pow_difficulty = 3)"
   ]
  },
  {
   "cell_type": "code",
   "execution_count": 105,
   "id": "a682f5d7",
   "metadata": {},
   "outputs": [],
   "source": [
    "bc.add_account(\"Alice\")\n",
    "bc.add_account(\"Bob\")"
   ]
  },
  {
   "cell_type": "code",
   "execution_count": 106,
   "id": "e09f1565",
   "metadata": {},
   "outputs": [
    {
     "name": "stdout",
     "output_type": "stream",
     "text": [
      "{'miner': 100.0}\n"
     ]
    }
   ],
   "source": [
    "bc.wallets_taking_only_mined_blocks()"
   ]
  },
  {
   "cell_type": "code",
   "execution_count": 107,
   "id": "05aeb0ea",
   "metadata": {},
   "outputs": [
    {
     "name": "stdout",
     "output_type": "stream",
     "text": [
      "\n",
      "block  0\n",
      "\n",
      "header:\n",
      "nonce  :  1190\n",
      "block_number  :  0\n",
      "merkle_tree_root_hash  :  c46ca60643d459f7b73c9bf6fde6ae366f8671bb10e4f3228e8edb77df3f7841\n",
      "timestamp  :  1655608006015\n",
      "\n",
      "body:\n",
      "transactions  :  (('miner', 100.0),)\n",
      "merkle_tree  :  Node('/c46ca60643d459f7b73c9bf6fde6ae366f8671bb10e4f3228e8edb77df3f7841')\n",
      "wallets_after_block_transactions  :  {'miner': 100.0}\n",
      "\n",
      " ----------------------------------------------------------------------------------------------------\n",
      "\n",
      "block  1\n",
      "\n",
      "header:\n",
      "nonce  :  0\n",
      "prev_hash  :  000f34ef0c7ea5268fb4bbe861ed694eec3b43cf4b6f7838b851475b91280a4d\n",
      "block_number  :  1\n",
      "\n",
      "body:\n",
      "transactions  :  (('miner', 50.0),)\n",
      "\n",
      " ----------------------------------------------------------------------------------------------------\n"
     ]
    }
   ],
   "source": [
    "bc.show()"
   ]
  },
  {
   "cell_type": "code",
   "execution_count": 108,
   "id": "99a267bd",
   "metadata": {},
   "outputs": [],
   "source": [
    "# tx -> (payer,payee,amount_to_transfer,fee)\n",
    "bc.add_transaction((\"miner\",\"Alice\",10,1))\n",
    "bc.add_transaction((\"miner\",\"Bob\",10,1))"
   ]
  },
  {
   "cell_type": "code",
   "execution_count": 109,
   "id": "19df6b6c",
   "metadata": {},
   "outputs": [],
   "source": [
    "bc.mine_last_block()"
   ]
  },
  {
   "cell_type": "code",
   "execution_count": 110,
   "id": "1e291fd7",
   "metadata": {},
   "outputs": [
    {
     "name": "stdout",
     "output_type": "stream",
     "text": [
      "\n",
      "block  0\n",
      "\n",
      "header:\n",
      "nonce  :  1190\n",
      "block_number  :  0\n",
      "merkle_tree_root_hash  :  c46ca60643d459f7b73c9bf6fde6ae366f8671bb10e4f3228e8edb77df3f7841\n",
      "timestamp  :  1655608006015\n",
      "\n",
      "body:\n",
      "transactions  :  (('miner', 100.0),)\n",
      "merkle_tree  :  Node('/c46ca60643d459f7b73c9bf6fde6ae366f8671bb10e4f3228e8edb77df3f7841')\n",
      "wallets_after_block_transactions  :  {'miner': 100.0}\n",
      "\n",
      " ----------------------------------------------------------------------------------------------------\n",
      "\n",
      "block  1\n",
      "\n",
      "header:\n",
      "nonce  :  222\n",
      "prev_hash  :  000f34ef0c7ea5268fb4bbe861ed694eec3b43cf4b6f7838b851475b91280a4d\n",
      "block_number  :  1\n",
      "merkle_tree_root_hash  :  4bf012f4a859b4da71bbf55ddfc8f4b1fbc01a53b4b379e43bb467a377f9f0c3\n",
      "timestamp  :  1655608018693\n",
      "\n",
      "body:\n",
      "transactions  :  (('miner', 50.0), ('miner', 'Alice', 10), ('miner', 'miner', 1), ('miner', 'Bob', 10), ('miner', 'miner', 1))\n",
      "merkle_tree  :  Node('/4bf012f4a859b4da71bbf55ddfc8f4b1fbc01a53b4b379e43bb467a377f9f0c3')\n",
      "wallets_after_block_transactions  :  {'miner': 130.0, 'Alice': 10, 'Bob': 10}\n",
      "\n",
      " ----------------------------------------------------------------------------------------------------\n",
      "\n",
      "block  2\n",
      "\n",
      "header:\n",
      "nonce  :  0\n",
      "prev_hash  :  000b66a9eec9cf3175c84a6c6ba625d5db4fd0592b602cc8013f3e2dc19e167a\n",
      "block_number  :  2\n",
      "\n",
      "body:\n",
      "transactions  :  (('miner', 33.333),)\n",
      "\n",
      " ----------------------------------------------------------------------------------------------------\n"
     ]
    }
   ],
   "source": [
    "bc.show()"
   ]
  },
  {
   "cell_type": "code",
   "execution_count": 111,
   "id": "079b83be",
   "metadata": {},
   "outputs": [
    {
     "data": {
      "text/plain": [
       "(Node(\"/4bf012f4a859b4da71bbf55ddfc8f4b1fbc01a53b4b379e43bb467a377f9f0c3/45ec05d1f448ba5241da2402bfcd9b15f47994a45e36ad00f66550297fe2fe6e/d6fce19356c28302e073cfd0214f5e19010224d476360e693f651dfdac976dbb/bb0ee4d3786b6a31864a3dfb1d50a8f2c2f70cadd12c013a80f75c85ee8e28e7/('miner', 50.0)\"),\n",
       " Node(\"/4bf012f4a859b4da71bbf55ddfc8f4b1fbc01a53b4b379e43bb467a377f9f0c3/570490d5aff85d1399e4ccedb2d4fa2a2649e5f521975e5d2614d04b1f18bcc7/c65c087034fb725599502e1c773e14cddc7c3cc73b7d82c38016ed18e2e15e1b/b4aabe4d189f69d4ce43528d2db383d0d95edca87fe71c05174a9abfdbcf9333/('miner', 'Alice', 10)\"),\n",
       " Node(\"/4bf012f4a859b4da71bbf55ddfc8f4b1fbc01a53b4b379e43bb467a377f9f0c3/570490d5aff85d1399e4ccedb2d4fa2a2649e5f521975e5d2614d04b1f18bcc7/c65c087034fb725599502e1c773e14cddc7c3cc73b7d82c38016ed18e2e15e1b/19be4cfe23fb44f0bb679d993561ff582d010775a264d53a59bdf0c42eec785d/('miner', 'miner', 1)\"),\n",
       " Node(\"/4bf012f4a859b4da71bbf55ddfc8f4b1fbc01a53b4b379e43bb467a377f9f0c3/570490d5aff85d1399e4ccedb2d4fa2a2649e5f521975e5d2614d04b1f18bcc7/386cf0679672f5c569191753bb9fddd4648396b26c625d362caf9830f7422876/9eb06e876613f878a7bf6d8e03e225fd0c04299ed7fc3da7543c72be913963f0/('miner', 'Bob', 10)\"),\n",
       " Node(\"/4bf012f4a859b4da71bbf55ddfc8f4b1fbc01a53b4b379e43bb467a377f9f0c3/570490d5aff85d1399e4ccedb2d4fa2a2649e5f521975e5d2614d04b1f18bcc7/386cf0679672f5c569191753bb9fddd4648396b26c625d362caf9830f7422876/19be4cfe23fb44f0bb679d993561ff582d010775a264d53a59bdf0c42eec785d/('miner', 'miner', 1)\"))"
      ]
     },
     "execution_count": 111,
     "metadata": {},
     "output_type": "execute_result"
    }
   ],
   "source": [
    "bc.chain[-2][\"body\"][\"merkle_tree\"].leaves"
   ]
  },
  {
   "cell_type": "code",
   "execution_count": 112,
   "id": "39347b05",
   "metadata": {},
   "outputs": [
    {
     "data": {
      "text/plain": [
       "'000f34ef0c7ea5268fb4bbe861ed694eec3b43cf4b6f7838b851475b91280a4d'"
      ]
     },
     "execution_count": 112,
     "metadata": {},
     "output_type": "execute_result"
    }
   ],
   "source": [
    "f.string_to_hash(str((bc.chain[0][\"header\"])))"
   ]
  },
  {
   "cell_type": "code",
   "execution_count": 113,
   "id": "7e7a2046",
   "metadata": {},
   "outputs": [
    {
     "data": {
      "text/plain": [
       "True"
      ]
     },
     "execution_count": 113,
     "metadata": {},
     "output_type": "execute_result"
    }
   ],
   "source": [
    "idx = 1\n",
    "f.string_to_hash(str((bc.chain[idx][\"header\"]))) == bc.chain[idx+1][\"header\"][\"prev_hash\"]"
   ]
  },
  {
   "cell_type": "code",
   "execution_count": 114,
   "id": "2b1d1862",
   "metadata": {},
   "outputs": [
    {
     "name": "stdout",
     "output_type": "stream",
     "text": [
      "{'miner': 130.0, 'Alice': 10, 'Bob': 10}\n"
     ]
    }
   ],
   "source": [
    "bc.wallets_taking_only_mined_blocks()"
   ]
  },
  {
   "cell_type": "code",
   "execution_count": 116,
   "id": "8b30d919",
   "metadata": {},
   "outputs": [],
   "source": [
    "bc.add_transaction((\"Bob\",\"Bob\",5,1))"
   ]
  },
  {
   "cell_type": "code",
   "execution_count": 117,
   "id": "9b34c586",
   "metadata": {},
   "outputs": [],
   "source": [
    "bc.mine_last_block()"
   ]
  },
  {
   "cell_type": "code",
   "execution_count": 118,
   "id": "828e669b",
   "metadata": {
    "scrolled": true
   },
   "outputs": [
    {
     "name": "stdout",
     "output_type": "stream",
     "text": [
      "\n",
      "block  0\n",
      "\n",
      "header:\n",
      "nonce  :  1190\n",
      "block_number  :  0\n",
      "merkle_tree_root_hash  :  c46ca60643d459f7b73c9bf6fde6ae366f8671bb10e4f3228e8edb77df3f7841\n",
      "timestamp  :  1655608006015\n",
      "\n",
      "body:\n",
      "transactions  :  (('miner', 100.0),)\n",
      "merkle_tree  :  Node('/c46ca60643d459f7b73c9bf6fde6ae366f8671bb10e4f3228e8edb77df3f7841')\n",
      "wallets_after_block_transactions  :  {'miner': 100.0}\n",
      "\n",
      " ----------------------------------------------------------------------------------------------------\n",
      "\n",
      "block  1\n",
      "\n",
      "header:\n",
      "nonce  :  222\n",
      "prev_hash  :  000f34ef0c7ea5268fb4bbe861ed694eec3b43cf4b6f7838b851475b91280a4d\n",
      "block_number  :  1\n",
      "merkle_tree_root_hash  :  4bf012f4a859b4da71bbf55ddfc8f4b1fbc01a53b4b379e43bb467a377f9f0c3\n",
      "timestamp  :  1655608018693\n",
      "\n",
      "body:\n",
      "transactions  :  (('miner', 50.0), ('miner', 'Alice', 10), ('miner', 'miner', 1), ('miner', 'Bob', 10), ('miner', 'miner', 1))\n",
      "merkle_tree  :  Node('/4bf012f4a859b4da71bbf55ddfc8f4b1fbc01a53b4b379e43bb467a377f9f0c3')\n",
      "wallets_after_block_transactions  :  {'miner': 130.0, 'Alice': 10, 'Bob': 10}\n",
      "\n",
      " ----------------------------------------------------------------------------------------------------\n",
      "\n",
      "block  2\n",
      "\n",
      "header:\n",
      "nonce  :  576\n",
      "prev_hash  :  000b66a9eec9cf3175c84a6c6ba625d5db4fd0592b602cc8013f3e2dc19e167a\n",
      "block_number  :  2\n",
      "merkle_tree_root_hash  :  32c07cbdfc7eeb47dd7c94e8d90afade98d39c24dedfa4f11f2137fd6d4cf287\n",
      "timestamp  :  1655608127184\n",
      "\n",
      "body:\n",
      "transactions  :  (('miner', 33.333), ('Bob', 'Bob', 5), ('Bob', 'miner', 1))\n",
      "merkle_tree  :  Node('/32c07cbdfc7eeb47dd7c94e8d90afade98d39c24dedfa4f11f2137fd6d4cf287')\n",
      "wallets_after_block_transactions  :  {'miner': 164.333, 'Alice': 10, 'Bob': 9}\n",
      "\n",
      " ----------------------------------------------------------------------------------------------------\n",
      "\n",
      "block  3\n",
      "\n",
      "header:\n",
      "nonce  :  0\n",
      "prev_hash  :  00020ac5e721939bd7ac40d4cd02b734b0bcf560fd28709535932ff95c93723f\n",
      "block_number  :  3\n",
      "\n",
      "body:\n",
      "transactions  :  (('miner', 25.0),)\n",
      "\n",
      " ----------------------------------------------------------------------------------------------------\n"
     ]
    }
   ],
   "source": [
    "bc.show()"
   ]
  },
  {
   "cell_type": "code",
   "execution_count": 119,
   "id": "1b1d27d0",
   "metadata": {},
   "outputs": [
    {
     "name": "stdout",
     "output_type": "stream",
     "text": [
      "{'miner': 164.333, 'Alice': 10, 'Bob': 9}\n"
     ]
    }
   ],
   "source": [
    "bc.wallets_taking_only_mined_blocks()"
   ]
  },
  {
   "cell_type": "code",
   "execution_count": 120,
   "id": "bf2336ab",
   "metadata": {},
   "outputs": [],
   "source": [
    "merkle_tree = bc.chain[-3][\"body\"][\"merkle_tree\"]\n",
    "\n",
    "DotExporter(merkle_tree).to_picture(\"merkle_tree.png\")"
   ]
  },
  {
   "cell_type": "code",
   "execution_count": 121,
   "id": "4abaea39",
   "metadata": {},
   "outputs": [
    {
     "name": "stdout",
     "output_type": "stream",
     "text": [
      "True\n",
      "False\n"
     ]
    }
   ],
   "source": [
    "print(f.block_newer_than(bc.chain[-2],bc.chain[-3]))\n",
    "print(f.block_newer_than(bc.chain[-4],bc.chain[-2]))"
   ]
  },
  {
   "cell_type": "code",
   "execution_count": 122,
   "id": "62be49ec",
   "metadata": {},
   "outputs": [
    {
     "ename": "TypeError",
     "evalue": "add_transaction() takes 2 positional arguments but 3 were given",
     "output_type": "error",
     "traceback": [
      "\u001b[0;31m---------------------------------------------------------------------------\u001b[0m",
      "\u001b[0;31mTypeError\u001b[0m                                 Traceback (most recent call last)",
      "\u001b[0;32m/tmp/ipykernel_43296/1037488316.py\u001b[0m in \u001b[0;36m<module>\u001b[0;34m\u001b[0m\n\u001b[1;32m      1\u001b[0m \u001b[0;31m#error para wallet inexistente\u001b[0m\u001b[0;34m\u001b[0m\u001b[0;34m\u001b[0m\u001b[0m\n\u001b[0;32m----> 2\u001b[0;31m \u001b[0mbc\u001b[0m\u001b[0;34m.\u001b[0m\u001b[0madd_transaction\u001b[0m\u001b[0;34m(\u001b[0m\u001b[0mbc\u001b[0m\u001b[0;34m.\u001b[0m\u001b[0mwallets\u001b[0m\u001b[0;34m,\u001b[0m\u001b[0;34m(\u001b[0m\u001b[0;34m\"Alice1\"\u001b[0m\u001b[0;34m,\u001b[0m\u001b[0;34m\"Bob\"\u001b[0m\u001b[0;34m,\u001b[0m\u001b[0;36m5\u001b[0m\u001b[0;34m)\u001b[0m\u001b[0;34m)\u001b[0m\u001b[0;34m\u001b[0m\u001b[0;34m\u001b[0m\u001b[0m\n\u001b[0m",
      "\u001b[0;31mTypeError\u001b[0m: add_transaction() takes 2 positional arguments but 3 were given"
     ]
    }
   ],
   "source": [
    "#error para wallet inexistente\n",
    "bc.add_transaction(bc.wallets,(\"Alice1\",\"Bob\",5))"
   ]
  }
 ],
 "metadata": {
  "kernelspec": {
   "display_name": "Python 3 (ipykernel)",
   "language": "python",
   "name": "python3"
  },
  "language_info": {
   "codemirror_mode": {
    "name": "ipython",
    "version": 3
   },
   "file_extension": ".py",
   "mimetype": "text/x-python",
   "name": "python",
   "nbconvert_exporter": "python",
   "pygments_lexer": "ipython3",
   "version": "3.9.7"
  }
 },
 "nbformat": 4,
 "nbformat_minor": 5
}
